{
  "nbformat": 4,
  "nbformat_minor": 0,
  "metadata": {
    "colab": {
      "provenance": []
    },
    "kernelspec": {
      "name": "python3",
      "display_name": "Python 3"
    },
    "language_info": {
      "name": "python"
    }
  },
  "cells": [
    {
      "cell_type": "code",
      "execution_count": 1,
      "metadata": {
        "id": "L5n2mzw-7NYL"
      },
      "outputs": [],
      "source": [
        "import pandas as pd\n",
        "import matplotlib.pyplot as plt\n",
        "import seaborn as sns\n",
        "from datetime import datetime\n",
        "from statsmodels.stats.power import tt_ind_solve_power\n",
        "import numpy as np\n",
        "import plotly.graph_objects as go\n",
        "from scipy import stats\n",
        "from scipy.stats import norm\n"
      ]
    },
    {
      "cell_type": "code",
      "source": [
        "df = pd.read_csv('/content/drive/MyDrive/ОБЗОР ВСЕХ МОДУЛЕЙ/data_raw.csv')"
      ],
      "metadata": {
        "id": "eEQUYm_I7-fJ"
      },
      "execution_count": 2,
      "outputs": []
    },
    {
      "cell_type": "code",
      "source": [
        "df.info()"
      ],
      "metadata": {
        "colab": {
          "base_uri": "https://localhost:8080/",
          "height": 0
        },
        "id": "0sZfPGIj8R2E",
        "outputId": "8dbde086-0487-4613-d262-7b5760c22e73"
      },
      "execution_count": 3,
      "outputs": [
        {
          "output_type": "stream",
          "name": "stdout",
          "text": [
            "<class 'pandas.core.frame.DataFrame'>\n",
            "RangeIndex: 27756048 entries, 0 to 27756047\n",
            "Data columns (total 4 columns):\n",
            " #   Column      Dtype \n",
            "---  ------      ----- \n",
            " 0   Unnamed: 0  int64 \n",
            " 1   client_id   int64 \n",
            " 2   dt          object\n",
            " 3   event_type  object\n",
            "dtypes: int64(2), object(2)\n",
            "memory usage: 847.0+ MB\n"
          ]
        }
      ]
    },
    {
      "cell_type": "code",
      "source": [
        "df"
      ],
      "metadata": {
        "colab": {
          "base_uri": "https://localhost:8080/",
          "height": 424
        },
        "id": "A6iHPhtukxuQ",
        "outputId": "d8a6df7a-77ec-45b6-8e4a-08687d04d86d"
      },
      "execution_count": 4,
      "outputs": [
        {
          "output_type": "execute_result",
          "data": {
            "text/plain": [
              "          Unnamed: 0  client_id          dt event_type\n",
              "0                  0    6095092  2024-06-20     clicks\n",
              "1                  1  541138559  2024-06-18     clicks\n",
              "2                  2   12189072  2024-06-20     clicks\n",
              "3                  3  674385020  2024-06-20     clicks\n",
              "4                  4  726939378  2024-06-20     clicks\n",
              "...              ...        ...         ...        ...\n",
              "27756043    27756043  819589730  2024-06-21      views\n",
              "27756044    27756044  680187923  2024-06-20      views\n",
              "27756045    27756045  519794764  2024-06-20      views\n",
              "27756046    27756046  898541720  2024-06-21      views\n",
              "27756047    27756047    8263198  2024-06-19      views\n",
              "\n",
              "[27756048 rows x 4 columns]"
            ],
            "text/html": [
              "\n",
              "  <div id=\"df-a03d946e-38c3-4df8-ab40-be643a8adba2\" class=\"colab-df-container\">\n",
              "    <div>\n",
              "<style scoped>\n",
              "    .dataframe tbody tr th:only-of-type {\n",
              "        vertical-align: middle;\n",
              "    }\n",
              "\n",
              "    .dataframe tbody tr th {\n",
              "        vertical-align: top;\n",
              "    }\n",
              "\n",
              "    .dataframe thead th {\n",
              "        text-align: right;\n",
              "    }\n",
              "</style>\n",
              "<table border=\"1\" class=\"dataframe\">\n",
              "  <thead>\n",
              "    <tr style=\"text-align: right;\">\n",
              "      <th></th>\n",
              "      <th>Unnamed: 0</th>\n",
              "      <th>client_id</th>\n",
              "      <th>dt</th>\n",
              "      <th>event_type</th>\n",
              "    </tr>\n",
              "  </thead>\n",
              "  <tbody>\n",
              "    <tr>\n",
              "      <th>0</th>\n",
              "      <td>0</td>\n",
              "      <td>6095092</td>\n",
              "      <td>2024-06-20</td>\n",
              "      <td>clicks</td>\n",
              "    </tr>\n",
              "    <tr>\n",
              "      <th>1</th>\n",
              "      <td>1</td>\n",
              "      <td>541138559</td>\n",
              "      <td>2024-06-18</td>\n",
              "      <td>clicks</td>\n",
              "    </tr>\n",
              "    <tr>\n",
              "      <th>2</th>\n",
              "      <td>2</td>\n",
              "      <td>12189072</td>\n",
              "      <td>2024-06-20</td>\n",
              "      <td>clicks</td>\n",
              "    </tr>\n",
              "    <tr>\n",
              "      <th>3</th>\n",
              "      <td>3</td>\n",
              "      <td>674385020</td>\n",
              "      <td>2024-06-20</td>\n",
              "      <td>clicks</td>\n",
              "    </tr>\n",
              "    <tr>\n",
              "      <th>4</th>\n",
              "      <td>4</td>\n",
              "      <td>726939378</td>\n",
              "      <td>2024-06-20</td>\n",
              "      <td>clicks</td>\n",
              "    </tr>\n",
              "    <tr>\n",
              "      <th>...</th>\n",
              "      <td>...</td>\n",
              "      <td>...</td>\n",
              "      <td>...</td>\n",
              "      <td>...</td>\n",
              "    </tr>\n",
              "    <tr>\n",
              "      <th>27756043</th>\n",
              "      <td>27756043</td>\n",
              "      <td>819589730</td>\n",
              "      <td>2024-06-21</td>\n",
              "      <td>views</td>\n",
              "    </tr>\n",
              "    <tr>\n",
              "      <th>27756044</th>\n",
              "      <td>27756044</td>\n",
              "      <td>680187923</td>\n",
              "      <td>2024-06-20</td>\n",
              "      <td>views</td>\n",
              "    </tr>\n",
              "    <tr>\n",
              "      <th>27756045</th>\n",
              "      <td>27756045</td>\n",
              "      <td>519794764</td>\n",
              "      <td>2024-06-20</td>\n",
              "      <td>views</td>\n",
              "    </tr>\n",
              "    <tr>\n",
              "      <th>27756046</th>\n",
              "      <td>27756046</td>\n",
              "      <td>898541720</td>\n",
              "      <td>2024-06-21</td>\n",
              "      <td>views</td>\n",
              "    </tr>\n",
              "    <tr>\n",
              "      <th>27756047</th>\n",
              "      <td>27756047</td>\n",
              "      <td>8263198</td>\n",
              "      <td>2024-06-19</td>\n",
              "      <td>views</td>\n",
              "    </tr>\n",
              "  </tbody>\n",
              "</table>\n",
              "<p>27756048 rows × 4 columns</p>\n",
              "</div>\n",
              "    <div class=\"colab-df-buttons\">\n",
              "\n",
              "  <div class=\"colab-df-container\">\n",
              "    <button class=\"colab-df-convert\" onclick=\"convertToInteractive('df-a03d946e-38c3-4df8-ab40-be643a8adba2')\"\n",
              "            title=\"Convert this dataframe to an interactive table.\"\n",
              "            style=\"display:none;\">\n",
              "\n",
              "  <svg xmlns=\"http://www.w3.org/2000/svg\" height=\"24px\" viewBox=\"0 -960 960 960\">\n",
              "    <path d=\"M120-120v-720h720v720H120Zm60-500h600v-160H180v160Zm220 220h160v-160H400v160Zm0 220h160v-160H400v160ZM180-400h160v-160H180v160Zm440 0h160v-160H620v160ZM180-180h160v-160H180v160Zm440 0h160v-160H620v160Z\"/>\n",
              "  </svg>\n",
              "    </button>\n",
              "\n",
              "  <style>\n",
              "    .colab-df-container {\n",
              "      display:flex;\n",
              "      gap: 12px;\n",
              "    }\n",
              "\n",
              "    .colab-df-convert {\n",
              "      background-color: #E8F0FE;\n",
              "      border: none;\n",
              "      border-radius: 50%;\n",
              "      cursor: pointer;\n",
              "      display: none;\n",
              "      fill: #1967D2;\n",
              "      height: 32px;\n",
              "      padding: 0 0 0 0;\n",
              "      width: 32px;\n",
              "    }\n",
              "\n",
              "    .colab-df-convert:hover {\n",
              "      background-color: #E2EBFA;\n",
              "      box-shadow: 0px 1px 2px rgba(60, 64, 67, 0.3), 0px 1px 3px 1px rgba(60, 64, 67, 0.15);\n",
              "      fill: #174EA6;\n",
              "    }\n",
              "\n",
              "    .colab-df-buttons div {\n",
              "      margin-bottom: 4px;\n",
              "    }\n",
              "\n",
              "    [theme=dark] .colab-df-convert {\n",
              "      background-color: #3B4455;\n",
              "      fill: #D2E3FC;\n",
              "    }\n",
              "\n",
              "    [theme=dark] .colab-df-convert:hover {\n",
              "      background-color: #434B5C;\n",
              "      box-shadow: 0px 1px 3px 1px rgba(0, 0, 0, 0.15);\n",
              "      filter: drop-shadow(0px 1px 2px rgba(0, 0, 0, 0.3));\n",
              "      fill: #FFFFFF;\n",
              "    }\n",
              "  </style>\n",
              "\n",
              "    <script>\n",
              "      const buttonEl =\n",
              "        document.querySelector('#df-a03d946e-38c3-4df8-ab40-be643a8adba2 button.colab-df-convert');\n",
              "      buttonEl.style.display =\n",
              "        google.colab.kernel.accessAllowed ? 'block' : 'none';\n",
              "\n",
              "      async function convertToInteractive(key) {\n",
              "        const element = document.querySelector('#df-a03d946e-38c3-4df8-ab40-be643a8adba2');\n",
              "        const dataTable =\n",
              "          await google.colab.kernel.invokeFunction('convertToInteractive',\n",
              "                                                    [key], {});\n",
              "        if (!dataTable) return;\n",
              "\n",
              "        const docLinkHtml = 'Like what you see? Visit the ' +\n",
              "          '<a target=\"_blank\" href=https://colab.research.google.com/notebooks/data_table.ipynb>data table notebook</a>'\n",
              "          + ' to learn more about interactive tables.';\n",
              "        element.innerHTML = '';\n",
              "        dataTable['output_type'] = 'display_data';\n",
              "        await google.colab.output.renderOutput(dataTable, element);\n",
              "        const docLink = document.createElement('div');\n",
              "        docLink.innerHTML = docLinkHtml;\n",
              "        element.appendChild(docLink);\n",
              "      }\n",
              "    </script>\n",
              "  </div>\n",
              "\n",
              "\n",
              "    <div id=\"df-9732da72-0a85-4ae6-9137-b277ff777468\">\n",
              "      <button class=\"colab-df-quickchart\" onclick=\"quickchart('df-9732da72-0a85-4ae6-9137-b277ff777468')\"\n",
              "                title=\"Suggest charts\"\n",
              "                style=\"display:none;\">\n",
              "\n",
              "<svg xmlns=\"http://www.w3.org/2000/svg\" height=\"24px\"viewBox=\"0 0 24 24\"\n",
              "     width=\"24px\">\n",
              "    <g>\n",
              "        <path d=\"M19 3H5c-1.1 0-2 .9-2 2v14c0 1.1.9 2 2 2h14c1.1 0 2-.9 2-2V5c0-1.1-.9-2-2-2zM9 17H7v-7h2v7zm4 0h-2V7h2v10zm4 0h-2v-4h2v4z\"/>\n",
              "    </g>\n",
              "</svg>\n",
              "      </button>\n",
              "\n",
              "<style>\n",
              "  .colab-df-quickchart {\n",
              "      --bg-color: #E8F0FE;\n",
              "      --fill-color: #1967D2;\n",
              "      --hover-bg-color: #E2EBFA;\n",
              "      --hover-fill-color: #174EA6;\n",
              "      --disabled-fill-color: #AAA;\n",
              "      --disabled-bg-color: #DDD;\n",
              "  }\n",
              "\n",
              "  [theme=dark] .colab-df-quickchart {\n",
              "      --bg-color: #3B4455;\n",
              "      --fill-color: #D2E3FC;\n",
              "      --hover-bg-color: #434B5C;\n",
              "      --hover-fill-color: #FFFFFF;\n",
              "      --disabled-bg-color: #3B4455;\n",
              "      --disabled-fill-color: #666;\n",
              "  }\n",
              "\n",
              "  .colab-df-quickchart {\n",
              "    background-color: var(--bg-color);\n",
              "    border: none;\n",
              "    border-radius: 50%;\n",
              "    cursor: pointer;\n",
              "    display: none;\n",
              "    fill: var(--fill-color);\n",
              "    height: 32px;\n",
              "    padding: 0;\n",
              "    width: 32px;\n",
              "  }\n",
              "\n",
              "  .colab-df-quickchart:hover {\n",
              "    background-color: var(--hover-bg-color);\n",
              "    box-shadow: 0 1px 2px rgba(60, 64, 67, 0.3), 0 1px 3px 1px rgba(60, 64, 67, 0.15);\n",
              "    fill: var(--button-hover-fill-color);\n",
              "  }\n",
              "\n",
              "  .colab-df-quickchart-complete:disabled,\n",
              "  .colab-df-quickchart-complete:disabled:hover {\n",
              "    background-color: var(--disabled-bg-color);\n",
              "    fill: var(--disabled-fill-color);\n",
              "    box-shadow: none;\n",
              "  }\n",
              "\n",
              "  .colab-df-spinner {\n",
              "    border: 2px solid var(--fill-color);\n",
              "    border-color: transparent;\n",
              "    border-bottom-color: var(--fill-color);\n",
              "    animation:\n",
              "      spin 1s steps(1) infinite;\n",
              "  }\n",
              "\n",
              "  @keyframes spin {\n",
              "    0% {\n",
              "      border-color: transparent;\n",
              "      border-bottom-color: var(--fill-color);\n",
              "      border-left-color: var(--fill-color);\n",
              "    }\n",
              "    20% {\n",
              "      border-color: transparent;\n",
              "      border-left-color: var(--fill-color);\n",
              "      border-top-color: var(--fill-color);\n",
              "    }\n",
              "    30% {\n",
              "      border-color: transparent;\n",
              "      border-left-color: var(--fill-color);\n",
              "      border-top-color: var(--fill-color);\n",
              "      border-right-color: var(--fill-color);\n",
              "    }\n",
              "    40% {\n",
              "      border-color: transparent;\n",
              "      border-right-color: var(--fill-color);\n",
              "      border-top-color: var(--fill-color);\n",
              "    }\n",
              "    60% {\n",
              "      border-color: transparent;\n",
              "      border-right-color: var(--fill-color);\n",
              "    }\n",
              "    80% {\n",
              "      border-color: transparent;\n",
              "      border-right-color: var(--fill-color);\n",
              "      border-bottom-color: var(--fill-color);\n",
              "    }\n",
              "    90% {\n",
              "      border-color: transparent;\n",
              "      border-bottom-color: var(--fill-color);\n",
              "    }\n",
              "  }\n",
              "</style>\n",
              "\n",
              "      <script>\n",
              "        async function quickchart(key) {\n",
              "          const quickchartButtonEl =\n",
              "            document.querySelector('#' + key + ' button');\n",
              "          quickchartButtonEl.disabled = true;  // To prevent multiple clicks.\n",
              "          quickchartButtonEl.classList.add('colab-df-spinner');\n",
              "          try {\n",
              "            const charts = await google.colab.kernel.invokeFunction(\n",
              "                'suggestCharts', [key], {});\n",
              "          } catch (error) {\n",
              "            console.error('Error during call to suggestCharts:', error);\n",
              "          }\n",
              "          quickchartButtonEl.classList.remove('colab-df-spinner');\n",
              "          quickchartButtonEl.classList.add('colab-df-quickchart-complete');\n",
              "        }\n",
              "        (() => {\n",
              "          let quickchartButtonEl =\n",
              "            document.querySelector('#df-9732da72-0a85-4ae6-9137-b277ff777468 button');\n",
              "          quickchartButtonEl.style.display =\n",
              "            google.colab.kernel.accessAllowed ? 'block' : 'none';\n",
              "        })();\n",
              "      </script>\n",
              "    </div>\n",
              "    </div>\n",
              "  </div>\n"
            ],
            "application/vnd.google.colaboratory.intrinsic+json": {
              "type": "dataframe",
              "variable_name": "df"
            }
          },
          "metadata": {},
          "execution_count": 4
        }
      ]
    },
    {
      "cell_type": "markdown",
      "source": [
        "# 1. Подготовка данных"
      ],
      "metadata": {
        "id": "wK5qjtpPkE8-"
      }
    },
    {
      "cell_type": "markdown",
      "source": [
        "**Преобразование даты**"
      ],
      "metadata": {
        "id": "kDMkFR_v0EGB"
      }
    },
    {
      "cell_type": "code",
      "source": [
        "# Преобразуем дату в datetime\n",
        "df['dt'] = pd.to_datetime(df['dt'])"
      ],
      "metadata": {
        "id": "DJGoxD7F7aio"
      },
      "execution_count": 5,
      "outputs": []
    },
    {
      "cell_type": "code",
      "source": [
        "df.info()"
      ],
      "metadata": {
        "colab": {
          "base_uri": "https://localhost:8080/",
          "height": 0
        },
        "id": "rdIYzyV2aEK2",
        "outputId": "c225ac63-b8a7-4646-d07d-9ed0d1de142f"
      },
      "execution_count": 6,
      "outputs": [
        {
          "output_type": "stream",
          "name": "stdout",
          "text": [
            "<class 'pandas.core.frame.DataFrame'>\n",
            "RangeIndex: 27756048 entries, 0 to 27756047\n",
            "Data columns (total 4 columns):\n",
            " #   Column      Dtype         \n",
            "---  ------      -----         \n",
            " 0   Unnamed: 0  int64         \n",
            " 1   client_id   int64         \n",
            " 2   dt          datetime64[ns]\n",
            " 3   event_type  object        \n",
            "dtypes: datetime64[ns](1), int64(2), object(1)\n",
            "memory usage: 847.0+ MB\n"
          ]
        }
      ]
    },
    {
      "cell_type": "markdown",
      "source": [
        "**Функция для очистки - удаление дубликатов**"
      ],
      "metadata": {
        "id": "UE19q2nfi-53"
      }
    },
    {
      "cell_type": "code",
      "source": [
        "# удаляем дубликаты\n",
        "df = df.drop('Unnamed: 0', axis=1, errors='ignore').drop_duplicates(\n",
        "    subset=['client_id', 'dt', 'event_type'],\n",
        "    keep='first'\n",
        ")"
      ],
      "metadata": {
        "id": "kOBP2Yc_jQHD"
      },
      "execution_count": 7,
      "outputs": []
    },
    {
      "cell_type": "code",
      "source": [
        "df.info()"
      ],
      "metadata": {
        "colab": {
          "base_uri": "https://localhost:8080/",
          "height": 0
        },
        "id": "MkbJ29qajTAf",
        "outputId": "00652f16-53d9-4a4b-efa0-7661fbe2cd11"
      },
      "execution_count": 8,
      "outputs": [
        {
          "output_type": "stream",
          "name": "stdout",
          "text": [
            "<class 'pandas.core.frame.DataFrame'>\n",
            "Index: 8785833 entries, 0 to 27756045\n",
            "Data columns (total 3 columns):\n",
            " #   Column      Dtype         \n",
            "---  ------      -----         \n",
            " 0   client_id   int64         \n",
            " 1   dt          datetime64[ns]\n",
            " 2   event_type  object        \n",
            "dtypes: datetime64[ns](1), int64(1), object(1)\n",
            "memory usage: 268.1+ MB\n"
          ]
        }
      ]
    },
    {
      "cell_type": "markdown",
      "source": [
        "#2. Преобразование данных\n"
      ],
      "metadata": {
        "id": "rGwDV96WzPtG"
      }
    },
    {
      "cell_type": "code",
      "source": [
        "# Создаем флаги событий\n",
        "df['is_view'] = (df['event_type'] == 'views').astype(int)\n",
        "df['is_click'] = (df['event_type'] == 'clicks').astype(int)\n",
        "df['is_adds'] = (df['event_type'] == 'adds').astype(int)\n",
        "\n",
        "\n",
        "# Группируем по пользователю и дате\n",
        "funnel_df = df.groupby(['client_id', 'dt']).agg({\n",
        "    'is_view': 'max',  # 1 если был хотя бы 1 просмотр\n",
        "    'is_click': 'max',  # 1 если был хотя бы 1 клик\n",
        "    'is_adds': 'max'  # 1 если было хотя бы 1 добавление\n",
        "\n",
        "}).reset_index()\n",
        "\n",
        "print(funnel_df.head())"
      ],
      "metadata": {
        "colab": {
          "base_uri": "https://localhost:8080/",
          "height": 0
        },
        "id": "mm9Ktocc_REn",
        "outputId": "9c555917-d719-45ba-d351-1758927aa439"
      },
      "execution_count": 9,
      "outputs": [
        {
          "output_type": "stream",
          "name": "stdout",
          "text": [
            "   client_id         dt  is_view  is_click  is_adds\n",
            "0          1 2024-06-17        1         0        0\n",
            "1          1 2024-06-19        1         0        0\n",
            "2          3 2024-06-17        1         1        0\n",
            "3          3 2024-06-18        1         1        0\n",
            "4          3 2024-06-19        1         1        1\n"
          ]
        }
      ]
    },
    {
      "cell_type": "code",
      "source": [
        "df"
      ],
      "metadata": {
        "colab": {
          "base_uri": "https://localhost:8080/",
          "height": 424
        },
        "id": "vtsUQRMJqCB9",
        "outputId": "3fb7f612-7fb0-4266-e757-ac197b0cdab6"
      },
      "execution_count": 10,
      "outputs": [
        {
          "output_type": "execute_result",
          "data": {
            "text/plain": [
              "          client_id         dt event_type  is_view  is_click  is_adds\n",
              "0           6095092 2024-06-20     clicks        0         1        0\n",
              "1         541138559 2024-06-18     clicks        0         1        0\n",
              "2          12189072 2024-06-20     clicks        0         1        0\n",
              "3         674385020 2024-06-20     clicks        0         1        0\n",
              "4         726939378 2024-06-20     clicks        0         1        0\n",
              "...             ...        ...        ...      ...       ...      ...\n",
              "27756038   69072404 2024-06-19      views        1         0        0\n",
              "27756039  956460961 2024-06-21      views        1         0        0\n",
              "27756040    3025462 2024-06-19      views        1         0        0\n",
              "27756043  819589730 2024-06-21      views        1         0        0\n",
              "27756045  519794764 2024-06-20      views        1         0        0\n",
              "\n",
              "[8785833 rows x 6 columns]"
            ],
            "text/html": [
              "\n",
              "  <div id=\"df-bb52aff2-635d-4008-b30f-cf653beeee76\" class=\"colab-df-container\">\n",
              "    <div>\n",
              "<style scoped>\n",
              "    .dataframe tbody tr th:only-of-type {\n",
              "        vertical-align: middle;\n",
              "    }\n",
              "\n",
              "    .dataframe tbody tr th {\n",
              "        vertical-align: top;\n",
              "    }\n",
              "\n",
              "    .dataframe thead th {\n",
              "        text-align: right;\n",
              "    }\n",
              "</style>\n",
              "<table border=\"1\" class=\"dataframe\">\n",
              "  <thead>\n",
              "    <tr style=\"text-align: right;\">\n",
              "      <th></th>\n",
              "      <th>client_id</th>\n",
              "      <th>dt</th>\n",
              "      <th>event_type</th>\n",
              "      <th>is_view</th>\n",
              "      <th>is_click</th>\n",
              "      <th>is_adds</th>\n",
              "    </tr>\n",
              "  </thead>\n",
              "  <tbody>\n",
              "    <tr>\n",
              "      <th>0</th>\n",
              "      <td>6095092</td>\n",
              "      <td>2024-06-20</td>\n",
              "      <td>clicks</td>\n",
              "      <td>0</td>\n",
              "      <td>1</td>\n",
              "      <td>0</td>\n",
              "    </tr>\n",
              "    <tr>\n",
              "      <th>1</th>\n",
              "      <td>541138559</td>\n",
              "      <td>2024-06-18</td>\n",
              "      <td>clicks</td>\n",
              "      <td>0</td>\n",
              "      <td>1</td>\n",
              "      <td>0</td>\n",
              "    </tr>\n",
              "    <tr>\n",
              "      <th>2</th>\n",
              "      <td>12189072</td>\n",
              "      <td>2024-06-20</td>\n",
              "      <td>clicks</td>\n",
              "      <td>0</td>\n",
              "      <td>1</td>\n",
              "      <td>0</td>\n",
              "    </tr>\n",
              "    <tr>\n",
              "      <th>3</th>\n",
              "      <td>674385020</td>\n",
              "      <td>2024-06-20</td>\n",
              "      <td>clicks</td>\n",
              "      <td>0</td>\n",
              "      <td>1</td>\n",
              "      <td>0</td>\n",
              "    </tr>\n",
              "    <tr>\n",
              "      <th>4</th>\n",
              "      <td>726939378</td>\n",
              "      <td>2024-06-20</td>\n",
              "      <td>clicks</td>\n",
              "      <td>0</td>\n",
              "      <td>1</td>\n",
              "      <td>0</td>\n",
              "    </tr>\n",
              "    <tr>\n",
              "      <th>...</th>\n",
              "      <td>...</td>\n",
              "      <td>...</td>\n",
              "      <td>...</td>\n",
              "      <td>...</td>\n",
              "      <td>...</td>\n",
              "      <td>...</td>\n",
              "    </tr>\n",
              "    <tr>\n",
              "      <th>27756038</th>\n",
              "      <td>69072404</td>\n",
              "      <td>2024-06-19</td>\n",
              "      <td>views</td>\n",
              "      <td>1</td>\n",
              "      <td>0</td>\n",
              "      <td>0</td>\n",
              "    </tr>\n",
              "    <tr>\n",
              "      <th>27756039</th>\n",
              "      <td>956460961</td>\n",
              "      <td>2024-06-21</td>\n",
              "      <td>views</td>\n",
              "      <td>1</td>\n",
              "      <td>0</td>\n",
              "      <td>0</td>\n",
              "    </tr>\n",
              "    <tr>\n",
              "      <th>27756040</th>\n",
              "      <td>3025462</td>\n",
              "      <td>2024-06-19</td>\n",
              "      <td>views</td>\n",
              "      <td>1</td>\n",
              "      <td>0</td>\n",
              "      <td>0</td>\n",
              "    </tr>\n",
              "    <tr>\n",
              "      <th>27756043</th>\n",
              "      <td>819589730</td>\n",
              "      <td>2024-06-21</td>\n",
              "      <td>views</td>\n",
              "      <td>1</td>\n",
              "      <td>0</td>\n",
              "      <td>0</td>\n",
              "    </tr>\n",
              "    <tr>\n",
              "      <th>27756045</th>\n",
              "      <td>519794764</td>\n",
              "      <td>2024-06-20</td>\n",
              "      <td>views</td>\n",
              "      <td>1</td>\n",
              "      <td>0</td>\n",
              "      <td>0</td>\n",
              "    </tr>\n",
              "  </tbody>\n",
              "</table>\n",
              "<p>8785833 rows × 6 columns</p>\n",
              "</div>\n",
              "    <div class=\"colab-df-buttons\">\n",
              "\n",
              "  <div class=\"colab-df-container\">\n",
              "    <button class=\"colab-df-convert\" onclick=\"convertToInteractive('df-bb52aff2-635d-4008-b30f-cf653beeee76')\"\n",
              "            title=\"Convert this dataframe to an interactive table.\"\n",
              "            style=\"display:none;\">\n",
              "\n",
              "  <svg xmlns=\"http://www.w3.org/2000/svg\" height=\"24px\" viewBox=\"0 -960 960 960\">\n",
              "    <path d=\"M120-120v-720h720v720H120Zm60-500h600v-160H180v160Zm220 220h160v-160H400v160Zm0 220h160v-160H400v160ZM180-400h160v-160H180v160Zm440 0h160v-160H620v160ZM180-180h160v-160H180v160Zm440 0h160v-160H620v160Z\"/>\n",
              "  </svg>\n",
              "    </button>\n",
              "\n",
              "  <style>\n",
              "    .colab-df-container {\n",
              "      display:flex;\n",
              "      gap: 12px;\n",
              "    }\n",
              "\n",
              "    .colab-df-convert {\n",
              "      background-color: #E8F0FE;\n",
              "      border: none;\n",
              "      border-radius: 50%;\n",
              "      cursor: pointer;\n",
              "      display: none;\n",
              "      fill: #1967D2;\n",
              "      height: 32px;\n",
              "      padding: 0 0 0 0;\n",
              "      width: 32px;\n",
              "    }\n",
              "\n",
              "    .colab-df-convert:hover {\n",
              "      background-color: #E2EBFA;\n",
              "      box-shadow: 0px 1px 2px rgba(60, 64, 67, 0.3), 0px 1px 3px 1px rgba(60, 64, 67, 0.15);\n",
              "      fill: #174EA6;\n",
              "    }\n",
              "\n",
              "    .colab-df-buttons div {\n",
              "      margin-bottom: 4px;\n",
              "    }\n",
              "\n",
              "    [theme=dark] .colab-df-convert {\n",
              "      background-color: #3B4455;\n",
              "      fill: #D2E3FC;\n",
              "    }\n",
              "\n",
              "    [theme=dark] .colab-df-convert:hover {\n",
              "      background-color: #434B5C;\n",
              "      box-shadow: 0px 1px 3px 1px rgba(0, 0, 0, 0.15);\n",
              "      filter: drop-shadow(0px 1px 2px rgba(0, 0, 0, 0.3));\n",
              "      fill: #FFFFFF;\n",
              "    }\n",
              "  </style>\n",
              "\n",
              "    <script>\n",
              "      const buttonEl =\n",
              "        document.querySelector('#df-bb52aff2-635d-4008-b30f-cf653beeee76 button.colab-df-convert');\n",
              "      buttonEl.style.display =\n",
              "        google.colab.kernel.accessAllowed ? 'block' : 'none';\n",
              "\n",
              "      async function convertToInteractive(key) {\n",
              "        const element = document.querySelector('#df-bb52aff2-635d-4008-b30f-cf653beeee76');\n",
              "        const dataTable =\n",
              "          await google.colab.kernel.invokeFunction('convertToInteractive',\n",
              "                                                    [key], {});\n",
              "        if (!dataTable) return;\n",
              "\n",
              "        const docLinkHtml = 'Like what you see? Visit the ' +\n",
              "          '<a target=\"_blank\" href=https://colab.research.google.com/notebooks/data_table.ipynb>data table notebook</a>'\n",
              "          + ' to learn more about interactive tables.';\n",
              "        element.innerHTML = '';\n",
              "        dataTable['output_type'] = 'display_data';\n",
              "        await google.colab.output.renderOutput(dataTable, element);\n",
              "        const docLink = document.createElement('div');\n",
              "        docLink.innerHTML = docLinkHtml;\n",
              "        element.appendChild(docLink);\n",
              "      }\n",
              "    </script>\n",
              "  </div>\n",
              "\n",
              "\n",
              "    <div id=\"df-3e760575-ee04-4e9e-992d-e9d878d3b9ba\">\n",
              "      <button class=\"colab-df-quickchart\" onclick=\"quickchart('df-3e760575-ee04-4e9e-992d-e9d878d3b9ba')\"\n",
              "                title=\"Suggest charts\"\n",
              "                style=\"display:none;\">\n",
              "\n",
              "<svg xmlns=\"http://www.w3.org/2000/svg\" height=\"24px\"viewBox=\"0 0 24 24\"\n",
              "     width=\"24px\">\n",
              "    <g>\n",
              "        <path d=\"M19 3H5c-1.1 0-2 .9-2 2v14c0 1.1.9 2 2 2h14c1.1 0 2-.9 2-2V5c0-1.1-.9-2-2-2zM9 17H7v-7h2v7zm4 0h-2V7h2v10zm4 0h-2v-4h2v4z\"/>\n",
              "    </g>\n",
              "</svg>\n",
              "      </button>\n",
              "\n",
              "<style>\n",
              "  .colab-df-quickchart {\n",
              "      --bg-color: #E8F0FE;\n",
              "      --fill-color: #1967D2;\n",
              "      --hover-bg-color: #E2EBFA;\n",
              "      --hover-fill-color: #174EA6;\n",
              "      --disabled-fill-color: #AAA;\n",
              "      --disabled-bg-color: #DDD;\n",
              "  }\n",
              "\n",
              "  [theme=dark] .colab-df-quickchart {\n",
              "      --bg-color: #3B4455;\n",
              "      --fill-color: #D2E3FC;\n",
              "      --hover-bg-color: #434B5C;\n",
              "      --hover-fill-color: #FFFFFF;\n",
              "      --disabled-bg-color: #3B4455;\n",
              "      --disabled-fill-color: #666;\n",
              "  }\n",
              "\n",
              "  .colab-df-quickchart {\n",
              "    background-color: var(--bg-color);\n",
              "    border: none;\n",
              "    border-radius: 50%;\n",
              "    cursor: pointer;\n",
              "    display: none;\n",
              "    fill: var(--fill-color);\n",
              "    height: 32px;\n",
              "    padding: 0;\n",
              "    width: 32px;\n",
              "  }\n",
              "\n",
              "  .colab-df-quickchart:hover {\n",
              "    background-color: var(--hover-bg-color);\n",
              "    box-shadow: 0 1px 2px rgba(60, 64, 67, 0.3), 0 1px 3px 1px rgba(60, 64, 67, 0.15);\n",
              "    fill: var(--button-hover-fill-color);\n",
              "  }\n",
              "\n",
              "  .colab-df-quickchart-complete:disabled,\n",
              "  .colab-df-quickchart-complete:disabled:hover {\n",
              "    background-color: var(--disabled-bg-color);\n",
              "    fill: var(--disabled-fill-color);\n",
              "    box-shadow: none;\n",
              "  }\n",
              "\n",
              "  .colab-df-spinner {\n",
              "    border: 2px solid var(--fill-color);\n",
              "    border-color: transparent;\n",
              "    border-bottom-color: var(--fill-color);\n",
              "    animation:\n",
              "      spin 1s steps(1) infinite;\n",
              "  }\n",
              "\n",
              "  @keyframes spin {\n",
              "    0% {\n",
              "      border-color: transparent;\n",
              "      border-bottom-color: var(--fill-color);\n",
              "      border-left-color: var(--fill-color);\n",
              "    }\n",
              "    20% {\n",
              "      border-color: transparent;\n",
              "      border-left-color: var(--fill-color);\n",
              "      border-top-color: var(--fill-color);\n",
              "    }\n",
              "    30% {\n",
              "      border-color: transparent;\n",
              "      border-left-color: var(--fill-color);\n",
              "      border-top-color: var(--fill-color);\n",
              "      border-right-color: var(--fill-color);\n",
              "    }\n",
              "    40% {\n",
              "      border-color: transparent;\n",
              "      border-right-color: var(--fill-color);\n",
              "      border-top-color: var(--fill-color);\n",
              "    }\n",
              "    60% {\n",
              "      border-color: transparent;\n",
              "      border-right-color: var(--fill-color);\n",
              "    }\n",
              "    80% {\n",
              "      border-color: transparent;\n",
              "      border-right-color: var(--fill-color);\n",
              "      border-bottom-color: var(--fill-color);\n",
              "    }\n",
              "    90% {\n",
              "      border-color: transparent;\n",
              "      border-bottom-color: var(--fill-color);\n",
              "    }\n",
              "  }\n",
              "</style>\n",
              "\n",
              "      <script>\n",
              "        async function quickchart(key) {\n",
              "          const quickchartButtonEl =\n",
              "            document.querySelector('#' + key + ' button');\n",
              "          quickchartButtonEl.disabled = true;  // To prevent multiple clicks.\n",
              "          quickchartButtonEl.classList.add('colab-df-spinner');\n",
              "          try {\n",
              "            const charts = await google.colab.kernel.invokeFunction(\n",
              "                'suggestCharts', [key], {});\n",
              "          } catch (error) {\n",
              "            console.error('Error during call to suggestCharts:', error);\n",
              "          }\n",
              "          quickchartButtonEl.classList.remove('colab-df-spinner');\n",
              "          quickchartButtonEl.classList.add('colab-df-quickchart-complete');\n",
              "        }\n",
              "        (() => {\n",
              "          let quickchartButtonEl =\n",
              "            document.querySelector('#df-3e760575-ee04-4e9e-992d-e9d878d3b9ba button');\n",
              "          quickchartButtonEl.style.display =\n",
              "            google.colab.kernel.accessAllowed ? 'block' : 'none';\n",
              "        })();\n",
              "      </script>\n",
              "    </div>\n",
              "    </div>\n",
              "  </div>\n"
            ],
            "application/vnd.google.colaboratory.intrinsic+json": {
              "type": "dataframe",
              "variable_name": "df"
            }
          },
          "metadata": {},
          "execution_count": 10
        }
      ]
    },
    {
      "cell_type": "markdown",
      "source": [
        "**Распределение типов событий**"
      ],
      "metadata": {
        "id": "eQ5exIHVcmEQ"
      }
    },
    {
      "cell_type": "code",
      "source": [
        "\n",
        "# Определяем пользовательскую палитру\n",
        "custom_palette = {\n",
        "    'views': '#3498db',  # Синий для просмотров\n",
        "    'clicks': '#2ecc71',  # Зеленый для кликов\n",
        "    'adds': '#e74c3c'    # Красный для добавлений\n",
        "}\n",
        "\n",
        "event_counts = df['event_type'].value_counts()\n",
        "\n",
        "plt.figure(figsize=(10, 6))\n",
        "\n",
        "# Используем пользовательскую палитру\n",
        "sns.barplot(x=event_counts.index,\n",
        "            y=event_counts.values,\n",
        "            hue=event_counts.index,  # Сохраняем группировку по типам\n",
        "            palette=custom_palette,  # Применяем пользовательскую палитру\n",
        "            legend=False)  # Отключаем легенду\n",
        "\n",
        "plt.title('Распределение типов событий')\n",
        "plt.ylabel('Количество событий')\n",
        "plt.xlabel('Тип события')\n",
        "\n",
        "# Добавляем подписи значений\n",
        "for i, v in enumerate(event_counts.values):\n",
        "    plt.text(i, v + 1000, f\"{v:,}\", ha='center')\n",
        "\n",
        "plt.show()\n"
      ],
      "metadata": {
        "colab": {
          "base_uri": "https://localhost:8080/",
          "height": 564
        },
        "id": "EJlzKZRS_lDV",
        "outputId": "68802849-c435-43da-edbf-2ed7fc4c70ec"
      },
      "execution_count": 11,
      "outputs": [
        {
          "output_type": "display_data",
          "data": {
            "text/plain": [
              "<Figure size 1000x600 with 1 Axes>"
            ],
            "image/png": "[encoded data removed]"
          },
          "metadata": {}
        }
      ]
    },
    {
      "cell_type": "markdown",
      "source": [
        "\n",
        "**Что было сделано:**\n",
        "\n",
        "Загрузка данных: Данные были загружены из CSV-файла, содержащего информацию о событиях пользователей (просмотры, клики, добавления).\n",
        "\n",
        "Преобразование даты: Колонка dt была преобразована в формат datetime для удобства анализа по времени.\n",
        "\n",
        "Удаление дубликатов: Были удалены дублирующиеся записи по комбинации client_id, dt, и event_type, чтобы избежать искажения результатов.\n",
        "\n",
        "Создание флагов событий: Были добавлены колонки is_view, is_click, и is_adds, которые принимают значение 1, если событие соответствует типу, и 0 в противном случае.\n",
        "\n",
        "**Выводы:**\n",
        "\n",
        "Данные успешно очищены от дубликатов, что улучшает качество анализа.\n",
        "Создание флагов событий позволяет легко фильтровать и анализировать данные по типам событий.\n",
        "\n",
        "\n"
      ],
      "metadata": {
        "id": "MoAE_3od3QFa"
      }
    },
    {
      "cell_type": "markdown",
      "source": [
        "#**Проверка пользователей**\n"
      ],
      "metadata": {
        "id": "UUMoDnMicbxh"
      }
    },
    {
      "cell_type": "markdown",
      "source": [
        "**Общая статистика**"
      ],
      "metadata": {
        "id": "j_P_JBhAfy7N"
      }
    },
    {
      "cell_type": "code",
      "source": [
        "# Подсчет общего количества записей (событий)\n",
        "total_events = len(df)\n",
        "\n",
        "# Подсчет уникальных пользователей\n",
        "unique_users = df['client_id'].nunique()\n",
        "\n",
        "# Подсчет событий\n",
        "total_views = df[df['event_type'] == 'views'].shape[0]\n",
        "total_clicks = df[df['event_type'] == 'clicks'].shape[0]\n",
        "total_adds = df[df['event_type'] == 'adds'].shape[0]\n",
        "\n",
        "# Расчет CTR с защитой от деления на ноль\n",
        "ctr = total_clicks / total_views if total_views > 0 else 0\n",
        "\n",
        "cr = total_adds / total_clicks if total_clicks > 0 else 0\n",
        "\n",
        "# Форматированный вывод\n",
        "print(f\"\"\"\n",
        "Общая статистика:\n",
        "- Общее количество записей: {total_events:,}\n",
        "- Уникальных пользователей: {unique_users:,}\n",
        "- Всего просмотров: {total_views:,}\n",
        "- Всего кликов: {total_clicks:,}\n",
        "- Всего добавлений: {total_adds:,}\n",
        "- CTR (Click-Through Rate): {ctr:.2%}\n",
        "- CR (Conversion Rate): {cr:.2%}\n",
        "\"\"\")\n",
        "\n",
        "# статистика по пользователям\n",
        "user_stats = df['client_id'].value_counts()\n",
        "print(\"\\nСтатистика по количеству событий на пользователя:\")\n",
        "print(f\"Среднее количество событий на пользователя: {user_stats.mean():.2f}\")\n",
        "print(f\"Медианное количество событий на пользователя: {user_stats.median():.0f}\")\n",
        "print(f\"Максимальное количество событий у одного пользователя: {user_stats.max():,}\")"
      ],
      "metadata": {
        "id": "u1MCl2XnHKLD",
        "colab": {
          "base_uri": "https://localhost:8080/",
          "height": 0
        },
        "outputId": "5c1f50b9-e475-4689-8a00-ba42f8d7c7a4"
      },
      "execution_count": 12,
      "outputs": [
        {
          "output_type": "stream",
          "name": "stdout",
          "text": [
            "\n",
            "Общая статистика:\n",
            "- Общее количество записей: 8,785,833\n",
            "- Уникальных пользователей: 3,102,736\n",
            "- Всего просмотров: 8,267,094\n",
            "- Всего кликов: 370,039\n",
            "- Всего добавлений: 148,700\n",
            "- CTR (Click-Through Rate): 4.48%\n",
            "- CR (Conversion Rate): 40.18%\n",
            "\n",
            "\n",
            "Статистика по количеству событий на пользователя:\n",
            "Среднее количество событий на пользователя: 2.83\n",
            "Медианное количество событий на пользователя: 3\n",
            "Максимальное количество событий у одного пользователя: 15\n"
          ]
        }
      ]
    },
    {
      "cell_type": "markdown",
      "source": [
        "**Что было сделано:**\n",
        "\n",
        "Подсчёт событий: Были подсчитаны общее количество просмотров, кликов и добавлений.\n",
        "\n",
        "Расчёт метрик:\n",
        "\n",
        "CTR (Click-Through Rate): отношение кликов к просмотрам.\n",
        "\n",
        "CR (Conversion Rate): отношение добавлений к кликам.\n",
        "\n",
        "\n",
        "Анализ уникальных пользователей:\n",
        "\n",
        "Было подсчитано количество уникальных пользователей, совершивших просмотры, клики и добавления.\n",
        "\n",
        "**Выводы:**\n",
        "\n",
        "CTR: 4.48% — показывает, что около 4.48% просмотров приводят к кликам.\n",
        "\n",
        "CR: 40.18% — показывает, что около 40.18% кликов приводят к добавлениям.\n",
        "\n",
        "Уникальные пользователи:\n",
        "\n",
        "Почти все уникальные пользователи (3,102,735 из 3,102,736) совершили хотя бы один просмотр, что говорит о высокой вовлечённости пользователей."
      ],
      "metadata": {
        "id": "BnT6IxkI3pdS"
      }
    },
    {
      "cell_type": "markdown",
      "source": [
        "#Детальный анализ по времени\n"
      ],
      "metadata": {
        "id": "LnwCoc2XDGzR"
      }
    },
    {
      "cell_type": "markdown",
      "source": [
        "**Данные по дням и типам событий для уникальных клиентов**"
      ],
      "metadata": {
        "id": "Vm78VQz4ZXtp"
      }
    },
    {
      "cell_type": "code",
      "source": [
        "import pandas as pd\n",
        "import matplotlib.pyplot as plt\n",
        "import seaborn as sns\n",
        "from IPython.display import display\n",
        "\n",
        "# Установка стиля\n",
        "try:\n",
        "    plt.style.use('seaborn-v0_8')\n",
        "except:\n",
        "    plt.style.use('ggplot')\n",
        "sns.set_theme(style=\"whitegrid\")\n",
        "\n",
        "# 1. Подготовка данных: добавление дня недели\n",
        "if 'day_of_week' not in df.columns:\n",
        "    df['day_of_week'] = df['dt'].dt.day_name()\n",
        "\n",
        "# 2. Анализ событий =================================================\n",
        "print(\"\\n\" + \"=\"*50)\n",
        "print(\"АНАЛИЗ СОБЫТИЙ\")\n",
        "print(\"=\"*50)\n",
        "\n",
        "events = {\n",
        "    'Просмотры': df['is_view'].sum(),\n",
        "    'Клики': df['is_click'].sum(),\n",
        "    'Добавления': df['is_adds'].sum()\n",
        "}\n",
        "\n",
        "unique_users = {\n",
        "    'Всего уникальных': df['client_id'].nunique(),\n",
        "    'Совершали просмотры': df[df['is_view'] == 1]['client_id'].nunique(),\n",
        "    'Совершали клики': df[df['is_click'] == 1]['client_id'].nunique(),\n",
        "    'Совершали добавления': df[df['is_adds'] == 1]['client_id'].nunique()\n",
        "}\n",
        "\n",
        "ctr = events['Клики'] / events['Просмотры'] if events['Просмотры'] > 0 else 0\n",
        "cr = events['Добавления'] / events['Клики'] if events['Клики'] > 0 else 0\n",
        "\n",
        "print(\"\\nКоличество событий:\")\n",
        "for event, count in events.items():\n",
        "    print(f\"- {event}: {count:,}\")\n",
        "\n",
        "print(\"\\nУникальные пользователи:\")\n",
        "for metric, count in unique_users.items():\n",
        "    print(f\"- {metric}: {count:,}\")\n",
        "\n",
        "print(f\"\\nМетрики:\")\n",
        "print(f\"- CTR: {ctr:.2%}\")\n",
        "print(f\"- CR: {cr:.2%}\")\n",
        "\n",
        "# 3. Анализ по дням недели =========================================\n",
        "print(\"\\n\" + \"=\"*50)\n",
        "print(\"АНАЛИЗ ПО ДНЯМ НЕДЕЛИ\")\n",
        "print(\"=\"*50)\n",
        "\n",
        "# Упорядочиваем дни недели\n",
        "day_order = ['Monday', 'Tuesday', 'Wednesday', 'Thursday', 'Friday']\n",
        "df['day_of_week'] = pd.Categorical(df['day_of_week'], categories=day_order, ordered=True)\n",
        "\n",
        "# Группировка и подготовка данных для визуализации (уникальные пользователи)\n",
        "try:\n",
        "    weekly_dynamics = df.groupby(['day_of_week', 'event_type'], observed=True)['client_id'].nunique().unstack(fill_value=0)\n",
        "    weekly_dynamics = weekly_dynamics.reindex(day_order)\n",
        "    weekly_melted = weekly_dynamics.reset_index().melt(\n",
        "        id_vars='day_of_week',\n",
        "        var_name='event_type',\n",
        "        value_name='user_count'\n",
        "    )\n",
        "    if weekly_melted.empty:\n",
        "        raise ValueError(\"Нет данных для визуализации после группировки\")\n",
        "except Exception as e:\n",
        "    print(f\"\\nОшибка при подготовке данных: {str(e)}\")\n",
        "    raise\n",
        "\n",
        "# Группировка и подготовка данных для визуализации (события)\n",
        "weekday_stats = df.groupby('day_of_week', observed=True)[['is_view', 'is_click', 'is_adds']].sum()\n",
        "weekday_stats['CTR'] = weekday_stats['is_click'] / weekday_stats['is_view']\n",
        "weekday_stats['CR'] = weekday_stats['is_adds'] / weekday_stats['is_click']\n",
        "\n",
        "print(\"\\nСтатистика по дням недели:\")\n",
        "display(weekday_stats.style.format('{:,.0f}').format({'CTR': '{:.2%}', 'CR': '{:.2%}'}))\n",
        "\n",
        "# Кастомные палитры\n",
        "custom_palette_users = {\n",
        "    'views': '#3498db',\n",
        "    'clicks': '#2ecc71',\n",
        "    'adds': '#e74c3c'\n",
        "}\n",
        "\n",
        "custom_palette_events = {\n",
        "    'is_view': '#3498db',\n",
        "    'is_click': '#2ecc71',\n",
        "    'is_adds': '#e74c3c'\n",
        "}\n",
        "\n",
        "# Визуализация событий\n",
        "melted_data = weekday_stats.reset_index().melt(\n",
        "    id_vars='day_of_week',\n",
        "    value_vars=['is_view', 'is_click', 'is_adds'],\n",
        "    var_name='event_type',\n",
        "    value_name='count'\n",
        ")\n",
        "\n",
        "plt.figure(figsize=(14, 7))\n",
        "ax = sns.barplot(\n",
        "    data=melted_data,\n",
        "    x='day_of_week',\n",
        "    y='count',\n",
        "    hue='event_type',\n",
        "    palette=custom_palette_events,\n",
        "    width=0.8\n",
        ")\n",
        "plt.title('Распределение событий по дням недели', fontsize=16, pad=20)\n",
        "plt.xlabel('День недели', fontsize=12)\n",
        "plt.ylabel('Количество событий', fontsize=12)\n",
        "plt.xticks(fontsize=10)\n",
        "plt.yticks(fontsize=10)\n",
        "for container in ax.containers:\n",
        "    ax.bar_label(container, label_type='edge', fontsize=9, padding=3, fmt='%.0f')\n",
        "legend_labels = {'is_view': 'Просмотры', 'is_click': 'Клики', 'is_adds': 'Добавления'}\n",
        "handles, _ = ax.get_legend_handles_labels()\n",
        "ax.legend(\n",
        "    handles=handles,\n",
        "    labels=[legend_labels.get(l, l) for l in _],\n",
        "    title='Тип события',\n",
        "    bbox_to_anchor=(1.05, 1),\n",
        "    loc='upper left'\n",
        ")\n",
        "plt.grid(axis='y', alpha=0.3)\n",
        "plt.tight_layout()\n",
        "plt.show()\n"
      ],
      "metadata": {
        "colab": {
          "base_uri": "https://localhost:8080/",
          "height": 1000
        },
        "id": "yY48QoFTCWFZ",
        "outputId": "da400607-e838-4ef1-80b0-35e9d46b7b1c"
      },
      "execution_count": 13,
      "outputs": [
        {
          "output_type": "stream",
          "name": "stdout",
          "text": [
            "\n",
            "==================================================\n",
            "АНАЛИЗ СОБЫТИЙ\n",
            "==================================================\n",
            "\n",
            "Количество событий:\n",
            "- Просмотры: 8,267,094\n",
            "- Клики: 370,039\n",
            "- Добавления: 148,700\n",
            "\n",
            "Уникальные пользователи:\n",
            "- Всего уникальных: 3,102,736\n",
            "- Совершали просмотры: 3,102,735\n",
            "- Совершали клики: 228,491\n",
            "- Совершали добавления: 90,438\n",
            "\n",
            "Метрики:\n",
            "- CTR: 4.48%\n",
            "- CR: 40.18%\n",
            "\n",
            "==================================================\n",
            "АНАЛИЗ ПО ДНЯМ НЕДЕЛИ\n",
            "==================================================\n",
            "\n",
            "Статистика по дням недели:\n"
          ]
        },
        {
          "output_type": "display_data",
          "data": {
            "text/plain": [
              "<pandas.io.formats.style.Styler at 0x7d621a05ca10>"
            ],
            "text/html": [
              "<style type=\"text/css\">\n",
              "</style>\n",
              "<table id=\"T_7183c\" class=\"dataframe\">\n",
              "  <thead>\n",
              "    <tr>\n",
              "      <th class=\"blank level0\" >&nbsp;</th>\n",
              "      <th id=\"T_7183c_level0_col0\" class=\"col_heading level0 col0\" >is_view</th>\n",
              "      <th id=\"T_7183c_level0_col1\" class=\"col_heading level0 col1\" >is_click</th>\n",
              "      <th id=\"T_7183c_level0_col2\" class=\"col_heading level0 col2\" >is_adds</th>\n",
              "      <th id=\"T_7183c_level0_col3\" class=\"col_heading level0 col3\" >CTR</th>\n",
              "      <th id=\"T_7183c_level0_col4\" class=\"col_heading level0 col4\" >CR</th>\n",
              "    </tr>\n",
              "    <tr>\n",
              "      <th class=\"index_name level0\" >day_of_week</th>\n",
              "      <th class=\"blank col0\" >&nbsp;</th>\n",
              "      <th class=\"blank col1\" >&nbsp;</th>\n",
              "      <th class=\"blank col2\" >&nbsp;</th>\n",
              "      <th class=\"blank col3\" >&nbsp;</th>\n",
              "      <th class=\"blank col4\" >&nbsp;</th>\n",
              "    </tr>\n",
              "  </thead>\n",
              "  <tbody>\n",
              "    <tr>\n",
              "      <th id=\"T_7183c_level0_row0\" class=\"row_heading level0 row0\" >Monday</th>\n",
              "      <td id=\"T_7183c_row0_col0\" class=\"data row0 col0\" >1116608</td>\n",
              "      <td id=\"T_7183c_row0_col1\" class=\"data row0 col1\" >39784</td>\n",
              "      <td id=\"T_7183c_row0_col2\" class=\"data row0 col2\" >25922</td>\n",
              "      <td id=\"T_7183c_row0_col3\" class=\"data row0 col3\" >3.56%</td>\n",
              "      <td id=\"T_7183c_row0_col4\" class=\"data row0 col4\" >65.16%</td>\n",
              "    </tr>\n",
              "    <tr>\n",
              "      <th id=\"T_7183c_level0_row1\" class=\"row_heading level0 row1\" >Tuesday</th>\n",
              "      <td id=\"T_7183c_row1_col0\" class=\"data row1 col0\" >1841228</td>\n",
              "      <td id=\"T_7183c_row1_col1\" class=\"data row1 col1\" >87159</td>\n",
              "      <td id=\"T_7183c_row1_col2\" class=\"data row1 col2\" >26241</td>\n",
              "      <td id=\"T_7183c_row1_col3\" class=\"data row1 col3\" >4.73%</td>\n",
              "      <td id=\"T_7183c_row1_col4\" class=\"data row1 col4\" >30.11%</td>\n",
              "    </tr>\n",
              "    <tr>\n",
              "      <th id=\"T_7183c_level0_row2\" class=\"row_heading level0 row2\" >Wednesday</th>\n",
              "      <td id=\"T_7183c_row2_col0\" class=\"data row2 col0\" >2381898</td>\n",
              "      <td id=\"T_7183c_row2_col1\" class=\"data row2 col1\" >119870</td>\n",
              "      <td id=\"T_7183c_row2_col2\" class=\"data row2 col2\" >48523</td>\n",
              "      <td id=\"T_7183c_row2_col3\" class=\"data row2 col3\" >5.03%</td>\n",
              "      <td id=\"T_7183c_row2_col4\" class=\"data row2 col4\" >40.48%</td>\n",
              "    </tr>\n",
              "    <tr>\n",
              "      <th id=\"T_7183c_level0_row3\" class=\"row_heading level0 row3\" >Thursday</th>\n",
              "      <td id=\"T_7183c_row3_col0\" class=\"data row3 col0\" >1828765</td>\n",
              "      <td id=\"T_7183c_row3_col1\" class=\"data row3 col1\" >85621</td>\n",
              "      <td id=\"T_7183c_row3_col2\" class=\"data row3 col2\" >24019</td>\n",
              "      <td id=\"T_7183c_row3_col3\" class=\"data row3 col3\" >4.68%</td>\n",
              "      <td id=\"T_7183c_row3_col4\" class=\"data row3 col4\" >28.05%</td>\n",
              "    </tr>\n",
              "    <tr>\n",
              "      <th id=\"T_7183c_level0_row4\" class=\"row_heading level0 row4\" >Friday</th>\n",
              "      <td id=\"T_7183c_row4_col0\" class=\"data row4 col0\" >1098595</td>\n",
              "      <td id=\"T_7183c_row4_col1\" class=\"data row4 col1\" >37605</td>\n",
              "      <td id=\"T_7183c_row4_col2\" class=\"data row4 col2\" >23995</td>\n",
              "      <td id=\"T_7183c_row4_col3\" class=\"data row4 col3\" >3.42%</td>\n",
              "      <td id=\"T_7183c_row4_col4\" class=\"data row4 col4\" >63.81%</td>\n",
              "    </tr>\n",
              "  </tbody>\n",
              "</table>\n"
            ]
          },
          "metadata": {}
        },
        {
          "output_type": "display_data",
          "data": {
            "text/plain": [
              "<Figure size 1400x700 with 1 Axes>"
            ],
            "image/png": "[encoded data removed]"
          },
          "metadata": {}
        }
      ]
    },
    {
      "cell_type": "markdown",
      "source": [
        "**Общее количество событий по дням**"
      ],
      "metadata": {
        "id": "etMPYdU_1ai4"
      }
    },
    {
      "cell_type": "code",
      "source": [
        "# Подсчет общего количества событий по дням\n",
        "daily_events = df.groupby('dt').size().reset_index(name='total_events')\n",
        "\n",
        "# Среднее количество событий в день\n",
        "avg_daily_events = daily_events['total_events'].mean()\n",
        "print(f'Среднее количество событий в день: {avg_daily_events:,.2f}')\n",
        "\n",
        "# Медианное количество событий\n",
        "median_daily_events = daily_events['total_events'].median()\n",
        "print(f'Медианное количество событий в день: {median_daily_events:,.2f}')\n",
        "\n",
        "# Общее количество уникальных пользователей\n",
        "total_unique_users = df['client_id'].nunique()\n",
        "print(f'Общее количество уникальных пользователей: {total_unique_users:,}')\n",
        "\n",
        "# Распределение по типам событий\n",
        "event_type_distribution = df['event_type'].value_counts(normalize=True) * 100\n",
        "print('Распределение типов событий (%):')\n",
        "print(event_type_distribution.round(2))"
      ],
      "metadata": {
        "id": "BBPNQmIc2R5I",
        "colab": {
          "base_uri": "https://localhost:8080/",
          "height": 0
        },
        "outputId": "826dfecd-42c7-4fc4-eaad-ce86eb4b391d"
      },
      "execution_count": 14,
      "outputs": [
        {
          "output_type": "stream",
          "name": "stdout",
          "text": [
            "Среднее количество событий в день: 1,757,166.60\n",
            "Медианное количество событий в день: 1,938,405.00\n",
            "Общее количество уникальных пользователей: 3,102,736\n",
            "Распределение типов событий (%):\n",
            "event_type\n",
            "views     94.10\n",
            "clicks     4.21\n",
            "adds       1.69\n",
            "Name: proportion, dtype: float64\n"
          ]
        }
      ]
    },
    {
      "cell_type": "markdown",
      "source": [
        "**Когортный анализ**"
      ],
      "metadata": {
        "id": "K7fNbMky6LOt"
      }
    },
    {
      "cell_type": "code",
      "source": [
        "\n",
        "# Группируем по дню недели с явным указанием observed=True\n",
        "cohort_data = df.groupby('day_of_week', observed=True).agg({\n",
        "    'is_view': lambda x: df.loc[x.index, 'client_id'].nunique(),\n",
        "    'is_click': 'sum',\n",
        "    'is_adds': 'sum'\n",
        "})\n",
        "\n",
        "# Упорядочиваем дни недели\n",
        "days_order = ['Monday', 'Tuesday', 'Wednesday', 'Thursday', 'Friday']\n",
        "cohort_data = cohort_data.reindex(days_order)\n",
        "\n",
        "# Переименовываем столбцы для лучшей читаемости\n",
        "cohort_data.columns = ['Просмотры', 'Клики', 'Добавления']\n",
        "\n",
        "# Создаем фигуру с настройками\n",
        "plt.figure(figsize=(12, 8))\n",
        "ax = sns.heatmap(\n",
        "    cohort_data.T,  # Транспонируем для лучшего отображения\n",
        "    annot=True,\n",
        "    fmt=',d',\n",
        "    cmap='YlGnBu',\n",
        "    linewidths=0.5,\n",
        "    linecolor='lightgray',\n",
        "    cbar_kws={'label': 'Количество событий'}\n",
        ")\n",
        "\n",
        "# Настраиваем оформление\n",
        "plt.title('Анализ активности по дням недели', pad=20, fontsize=14)\n",
        "plt.xlabel('День недели', fontsize=12)\n",
        "plt.ylabel('Тип события', fontsize=12)\n",
        "plt.xticks(rotation=45, ha='right')\n",
        "\n",
        "# Добавляем разделители\n",
        "for _, spine in ax.spines.items():\n",
        "    spine.set_visible(True)\n",
        "    spine.set_color('gray')\n",
        "\n",
        "plt.tight_layout()\n",
        "plt.show()"
      ],
      "metadata": {
        "id": "M2Ihkv_OCfFR",
        "colab": {
          "base_uri": "https://localhost:8080/",
          "height": 801
        },
        "outputId": "da404679-651f-4f5b-e944-64e3c9baea9b"
      },
      "execution_count": 16,
      "outputs": [
        {
          "output_type": "display_data",
          "data": {
            "text/plain": [
              "<Figure size 1200x800 with 2 Axes>"
            ],
            "image/png": "[encoded data removed]"
          },
          "metadata": {}
        }
      ]
    },
    {
      "cell_type": "markdown",
      "source": [
        "**Воронка событий**"
      ],
      "metadata": {
        "id": "IjKiat-L895I"
      }
    },
    {
      "cell_type": "code",
      "source": [
        "\n",
        "# Подсчитаем количество каждого типа событий\n",
        "event_counts = df[['is_view', 'is_click', 'is_adds']].sum().reset_index()\n",
        "event_counts.columns = ['event_type', 'count']\n",
        "event_counts['event_type'] = event_counts['event_type'].map({\n",
        "    'is_view': 'Просмотры',\n",
        "    'is_click': 'Клики',\n",
        "    'is_adds': 'Добавления'\n",
        "})\n",
        "\n",
        "# Рассчитаем проценты\n",
        "total = event_counts['count'].iloc[0]\n",
        "event_counts['percentage'] = (event_counts['count'] / total * 100).round(2)\n",
        "\n",
        "# Создадим воронку с использованием Plotly\n",
        "fig = go.Figure(go.Funnel(\n",
        "    y=event_counts['event_type'],\n",
        "    x=event_counts['count'],\n",
        "    textinfo=\"value+percent initial\",\n",
        "    textposition = \"inside\",\n",
        "    marker = {\"color\": [\"#636EFA\", \"#EF553B\", \"#00CC96\"]}\n",
        "))\n",
        "\n",
        "fig.update_layout(\n",
        "    title='Воронка событий',\n",
        "    yaxis_title='Тип события',\n",
        "    xaxis_title='Количество'\n",
        ")\n",
        "\n",
        "fig.show()\n"
      ],
      "metadata": {
        "colab": {
          "base_uri": "https://localhost:8080/",
          "height": 542
        },
        "id": "kCEOwi9786fa",
        "outputId": "a1154353-3f92-4671-a8b9-6b8af8263944"
      },
      "execution_count": 17,
      "outputs": [
        {
          "output_type": "display_data",
          "data": {
            "text/html": [
              "<html>\n",
              "<head><meta charset=\"utf-8\" /></head>\n",
              "<body>\n",
              "    <div>            <script src=\"https://cdnjs.cloudflare.com/ajax/libs/mathjax/2.7.5/MathJax.js?config=TeX-AMS-MML_SVG\"></script><script type=\"text/javascript\">if (window.MathJax && window.MathJax.Hub && window.MathJax.Hub.Config) {window.MathJax.Hub.Config({SVG: {font: \"STIX-Web\"}});}</script>                <script type=\"text/javascript\">window.PlotlyConfig = {MathJaxConfig: 'local'};</script>\n",
              "        <script charset=\"utf-8\" src=\"https://cdn.plot.ly/plotly-2.35.2.min.js\"></script>                <div id=\"47096a73-b330-4820-93b0-db855ba97670\" class=\"plotly-graph-div\" style=\"height:525px; width:100%;\"></div>            <script type=\"text/javascript\">                                    window.PLOTLYENV=window.PLOTLYENV || {};                                    if (document.getElementById(\"47096a73-b330-4820-93b0-db855ba97670\")) {                    Plotly.newPlot(                        \"47096a73-b330-4820-93b0-db855ba97670\",                        [{\"marker\":{\"color\":[\"#636EFA\",\"#EF553B\",\"#00CC96\"]},\"textinfo\":\"value+percent initial\",\"textposition\":\"inside\",\"x\":[8267094,370039,148700],\"y\":[\"Просмотры\",\"Клики\",\"Добавления\"],\"type\":\"funnel\"}],                        {\"template\":{\"data\":{\"histogram2dcontour\":[{\"type\":\"histogram2dcontour\",\"colorbar\":{\"outlinewidth\":0,\"ticks\":\"\"},\"colorscale\":[[0.0,\"#0d0887\"],[0.1111111111111111,\"#46039f\"],[0.2222222222222222,\"#7201a8\"],[0.3333333333333333,\"#9c179e\"],[0.4444444444444444,\"#bd3786\"],[0.5555555555555556,\"#d8576b\"],[0.6666666666666666,\"#ed7953\"],[0.7777777777777778,\"#fb9f3a\"],[0.8888888888888888,\"#fdca26\"],[1.0,\"#f0f921\"]]}],\"choropleth\":[{\"type\":\"choropleth\",\"colorbar\":{\"outlinewidth\":0,\"ticks\":\"\"}}],\"histogram2d\":[{\"type\":\"histogram2d\",\"colorbar\":{\"outlinewidth\":0,\"ticks\":\"\"},\"colorscale\":[[0.0,\"#0d0887\"],[0.1111111111111111,\"#46039f\"],[0.2222222222222222,\"#7201a8\"],[0.3333333333333333,\"#9c179e\"],[0.4444444444444444,\"#bd3786\"],[0.5555555555555556,\"#d8576b\"],[0.6666666666666666,\"#ed7953\"],[0.7777777777777778,\"#fb9f3a\"],[0.8888888888888888,\"#fdca26\"],[1.0,\"#f0f921\"]]}],\"heatmap\":[{\"type\":\"heatmap\",\"colorbar\":{\"outlinewidth\":0,\"ticks\":\"\"},\"colorscale\":[[0.0,\"#0d0887\"],[0.1111111111111111,\"#46039f\"],[0.2222222222222222,\"#7201a8\"],[0.3333333333333333,\"#9c179e\"],[0.4444444444444444,\"#bd3786\"],[0.5555555555555556,\"#d8576b\"],[0.6666666666666666,\"#ed7953\"],[0.7777777777777778,\"#fb9f3a\"],[0.8888888888888888,\"#fdca26\"],[1.0,\"#f0f921\"]]}],\"heatmapgl\":[{\"type\":\"heatmapgl\",\"colorbar\":{\"outlinewidth\":0,\"ticks\":\"\"},\"colorscale\":[[0.0,\"#0d0887\"],[0.1111111111111111,\"#46039f\"],[0.2222222222222222,\"#7201a8\"],[0.3333333333333333,\"#9c179e\"],[0.4444444444444444,\"#bd3786\"],[0.5555555555555556,\"#d8576b\"],[0.6666666666666666,\"#ed7953\"],[0.7777777777777778,\"#fb9f3a\"],[0.8888888888888888,\"#fdca26\"],[1.0,\"#f0f921\"]]}],\"contourcarpet\":[{\"type\":\"contourcarpet\",\"colorbar\":{\"outlinewidth\":0,\"ticks\":\"\"}}],\"contour\":[{\"type\":\"contour\",\"colorbar\":{\"outlinewidth\":0,\"ticks\":\"\"},\"colorscale\":[[0.0,\"#0d0887\"],[0.1111111111111111,\"#46039f\"],[0.2222222222222222,\"#7201a8\"],[0.3333333333333333,\"#9c179e\"],[0.4444444444444444,\"#bd3786\"],[0.5555555555555556,\"#d8576b\"],[0.6666666666666666,\"#ed7953\"],[0.7777777777777778,\"#fb9f3a\"],[0.8888888888888888,\"#fdca26\"],[1.0,\"#f0f921\"]]}],\"surface\":[{\"type\":\"surface\",\"colorbar\":{\"outlinewidth\":0,\"ticks\":\"\"},\"colorscale\":[[0.0,\"#0d0887\"],[0.1111111111111111,\"#46039f\"],[0.2222222222222222,\"#7201a8\"],[0.3333333333333333,\"#9c179e\"],[0.4444444444444444,\"#bd3786\"],[0.5555555555555556,\"#d8576b\"],[0.6666666666666666,\"#ed7953\"],[0.7777777777777778,\"#fb9f3a\"],[0.8888888888888888,\"#fdca26\"],[1.0,\"#f0f921\"]]}],\"mesh3d\":[{\"type\":\"mesh3d\",\"colorbar\":{\"outlinewidth\":0,\"ticks\":\"\"}}],\"scatter\":[{\"fillpattern\":{\"fillmode\":\"overlay\",\"size\":10,\"solidity\":0.2},\"type\":\"scatter\"}],\"parcoords\":[{\"type\":\"parcoords\",\"line\":{\"colorbar\":{\"outlinewidth\":0,\"ticks\":\"\"}}}],\"scatterpolargl\":[{\"type\":\"scatterpolargl\",\"marker\":{\"colorbar\":{\"outlinewidth\":0,\"ticks\":\"\"}}}],\"bar\":[{\"error_x\":{\"color\":\"#2a3f5f\"},\"error_y\":{\"color\":\"#2a3f5f\"},\"marker\":{\"line\":{\"color\":\"#E5ECF6\",\"width\":0.5},\"pattern\":{\"fillmode\":\"overlay\",\"size\":10,\"solidity\":0.2}},\"type\":\"bar\"}],\"scattergeo\":[{\"type\":\"scattergeo\",\"marker\":{\"colorbar\":{\"outlinewidth\":0,\"ticks\":\"\"}}}],\"scatterpolar\":[{\"type\":\"scatterpolar\",\"marker\":{\"colorbar\":{\"outlinewidth\":0,\"ticks\":\"\"}}}],\"histogram\":[{\"marker\":{\"pattern\":{\"fillmode\":\"overlay\",\"size\":10,\"solidity\":0.2}},\"type\":\"histogram\"}],\"scattergl\":[{\"type\":\"scattergl\",\"marker\":{\"colorbar\":{\"outlinewidth\":0,\"ticks\":\"\"}}}],\"scatter3d\":[{\"type\":\"scatter3d\",\"line\":{\"colorbar\":{\"outlinewidth\":0,\"ticks\":\"\"}},\"marker\":{\"colorbar\":{\"outlinewidth\":0,\"ticks\":\"\"}}}],\"scattermapbox\":[{\"type\":\"scattermapbox\",\"marker\":{\"colorbar\":{\"outlinewidth\":0,\"ticks\":\"\"}}}],\"scatterternary\":[{\"type\":\"scatterternary\",\"marker\":{\"colorbar\":{\"outlinewidth\":0,\"ticks\":\"\"}}}],\"scattercarpet\":[{\"type\":\"scattercarpet\",\"marker\":{\"colorbar\":{\"outlinewidth\":0,\"ticks\":\"\"}}}],\"carpet\":[{\"aaxis\":{\"endlinecolor\":\"#2a3f5f\",\"gridcolor\":\"white\",\"linecolor\":\"white\",\"minorgridcolor\":\"white\",\"startlinecolor\":\"#2a3f5f\"},\"baxis\":{\"endlinecolor\":\"#2a3f5f\",\"gridcolor\":\"white\",\"linecolor\":\"white\",\"minorgridcolor\":\"white\",\"startlinecolor\":\"#2a3f5f\"},\"type\":\"carpet\"}],\"table\":[{\"cells\":{\"fill\":{\"color\":\"#EBF0F8\"},\"line\":{\"color\":\"white\"}},\"header\":{\"fill\":{\"color\":\"#C8D4E3\"},\"line\":{\"color\":\"white\"}},\"type\":\"table\"}],\"barpolar\":[{\"marker\":{\"line\":{\"color\":\"#E5ECF6\",\"width\":0.5},\"pattern\":{\"fillmode\":\"overlay\",\"size\":10,\"solidity\":0.2}},\"type\":\"barpolar\"}],\"pie\":[{\"automargin\":true,\"type\":\"pie\"}]},\"layout\":{\"autotypenumbers\":\"strict\",\"colorway\":[\"#636efa\",\"#EF553B\",\"#00cc96\",\"#ab63fa\",\"#FFA15A\",\"#19d3f3\",\"#FF6692\",\"#B6E880\",\"#FF97FF\",\"#FECB52\"],\"font\":{\"color\":\"#2a3f5f\"},\"hovermode\":\"closest\",\"hoverlabel\":{\"align\":\"left\"},\"paper_bgcolor\":\"white\",\"plot_bgcolor\":\"#E5ECF6\",\"polar\":{\"bgcolor\":\"#E5ECF6\",\"angularaxis\":{\"gridcolor\":\"white\",\"linecolor\":\"white\",\"ticks\":\"\"},\"radialaxis\":{\"gridcolor\":\"white\",\"linecolor\":\"white\",\"ticks\":\"\"}},\"ternary\":{\"bgcolor\":\"#E5ECF6\",\"aaxis\":{\"gridcolor\":\"white\",\"linecolor\":\"white\",\"ticks\":\"\"},\"baxis\":{\"gridcolor\":\"white\",\"linecolor\":\"white\",\"ticks\":\"\"},\"caxis\":{\"gridcolor\":\"white\",\"linecolor\":\"white\",\"ticks\":\"\"}},\"coloraxis\":{\"colorbar\":{\"outlinewidth\":0,\"ticks\":\"\"}},\"colorscale\":{\"sequential\":[[0.0,\"#0d0887\"],[0.1111111111111111,\"#46039f\"],[0.2222222222222222,\"#7201a8\"],[0.3333333333333333,\"#9c179e\"],[0.4444444444444444,\"#bd3786\"],[0.5555555555555556,\"#d8576b\"],[0.6666666666666666,\"#ed7953\"],[0.7777777777777778,\"#fb9f3a\"],[0.8888888888888888,\"#fdca26\"],[1.0,\"#f0f921\"]],\"sequentialminus\":[[0.0,\"#0d0887\"],[0.1111111111111111,\"#46039f\"],[0.2222222222222222,\"#7201a8\"],[0.3333333333333333,\"#9c179e\"],[0.4444444444444444,\"#bd3786\"],[0.5555555555555556,\"#d8576b\"],[0.6666666666666666,\"#ed7953\"],[0.7777777777777778,\"#fb9f3a\"],[0.8888888888888888,\"#fdca26\"],[1.0,\"#f0f921\"]],\"diverging\":[[0,\"#8e0152\"],[0.1,\"#c51b7d\"],[0.2,\"#de77ae\"],[0.3,\"#f1b6da\"],[0.4,\"#fde0ef\"],[0.5,\"#f7f7f7\"],[0.6,\"#e6f5d0\"],[0.7,\"#b8e186\"],[0.8,\"#7fbc41\"],[0.9,\"#4d9221\"],[1,\"#276419\"]]},\"xaxis\":{\"gridcolor\":\"white\",\"linecolor\":\"white\",\"ticks\":\"\",\"title\":{\"standoff\":15},\"zerolinecolor\":\"white\",\"automargin\":true,\"zerolinewidth\":2},\"yaxis\":{\"gridcolor\":\"white\",\"linecolor\":\"white\",\"ticks\":\"\",\"title\":{\"standoff\":15},\"zerolinecolor\":\"white\",\"automargin\":true,\"zerolinewidth\":2},\"scene\":{\"xaxis\":{\"backgroundcolor\":\"#E5ECF6\",\"gridcolor\":\"white\",\"linecolor\":\"white\",\"showbackground\":true,\"ticks\":\"\",\"zerolinecolor\":\"white\",\"gridwidth\":2},\"yaxis\":{\"backgroundcolor\":\"#E5ECF6\",\"gridcolor\":\"white\",\"linecolor\":\"white\",\"showbackground\":true,\"ticks\":\"\",\"zerolinecolor\":\"white\",\"gridwidth\":2},\"zaxis\":{\"backgroundcolor\":\"#E5ECF6\",\"gridcolor\":\"white\",\"linecolor\":\"white\",\"showbackground\":true,\"ticks\":\"\",\"zerolinecolor\":\"white\",\"gridwidth\":2}},\"shapedefaults\":{\"line\":{\"color\":\"#2a3f5f\"}},\"annotationdefaults\":{\"arrowcolor\":\"#2a3f5f\",\"arrowhead\":0,\"arrowwidth\":1},\"geo\":{\"bgcolor\":\"white\",\"landcolor\":\"#E5ECF6\",\"subunitcolor\":\"white\",\"showland\":true,\"showlakes\":true,\"lakecolor\":\"white\"},\"title\":{\"x\":0.05},\"mapbox\":{\"style\":\"light\"}}},\"title\":{\"text\":\"Воронка событий\"},\"yaxis\":{\"title\":{\"text\":\"Тип события\"}},\"xaxis\":{\"title\":{\"text\":\"Количество\"}}},                        {\"responsive\": true}                    ).then(function(){\n",
              "                            \n",
              "var gd = document.getElementById('47096a73-b330-4820-93b0-db855ba97670');\n",
              "var x = new MutationObserver(function (mutations, observer) {{\n",
              "        var display = window.getComputedStyle(gd).display;\n",
              "        if (!display || display === 'none') {{\n",
              "            console.log([gd, 'removed!']);\n",
              "            Plotly.purge(gd);\n",
              "            observer.disconnect();\n",
              "        }}\n",
              "}});\n",
              "\n",
              "// Listen for the removal of the full notebook cells\n",
              "var notebookContainer = gd.closest('#notebook-container');\n",
              "if (notebookContainer) {{\n",
              "    x.observe(notebookContainer, {childList: true});\n",
              "}}\n",
              "\n",
              "// Listen for the clearing of the current output cell\n",
              "var outputEl = gd.closest('.output');\n",
              "if (outputEl) {{\n",
              "    x.observe(outputEl, {childList: true});\n",
              "}}\n",
              "\n",
              "                        })                };                            </script>        </div>\n",
              "</body>\n",
              "</html>"
            ]
          },
          "metadata": {}
        }
      ]
    },
    {
      "cell_type": "markdown",
      "source": [],
      "metadata": {
        "id": "_Y16aK6L4A73"
      }
    },
    {
      "cell_type": "markdown",
      "source": [
        "# Динамика CTR по дням\n"
      ],
      "metadata": {
        "id": "boKnh39GAD9c"
      }
    },
    {
      "cell_type": "code",
      "source": [
        "daily_metrics = df.groupby('dt').agg({\n",
        "    'client_id': 'nunique',\n",
        "    'is_view': 'sum',\n",
        "    'is_click': 'sum',\n",
        "    'is_adds': 'sum'\n",
        "}).reset_index()\n",
        "\n",
        "daily_metrics['CTR'] = daily_metrics['is_click'] / daily_metrics['is_view']\n",
        "\n",
        "print(daily_metrics)"
      ],
      "metadata": {
        "colab": {
          "base_uri": "https://localhost:8080/",
          "height": 0
        },
        "id": "4SXQCSy1-tje",
        "outputId": "bbe97321-bdcf-4187-a255-dcdc88e8825e"
      },
      "execution_count": 18,
      "outputs": [
        {
          "output_type": "stream",
          "name": "stdout",
          "text": [
            "          dt  client_id  is_view  is_click  is_adds       CTR\n",
            "0 2024-06-17    1118465  1116608     39784    25922  0.035629\n",
            "1 2024-06-18    1843719  1841228     87159    26241  0.047337\n",
            "2 2024-06-19    2384623  2381898    119870    48523  0.050325\n",
            "3 2024-06-20    1831314  1828765     85621    24019  0.046819\n",
            "4 2024-06-21    1100508  1098595     37605    23995  0.034230\n"
          ]
        }
      ]
    },
    {
      "cell_type": "markdown",
      "source": [
        "**Визуализация**\n"
      ],
      "metadata": {
        "id": "AH_wuIyTAJMY"
      }
    },
    {
      "cell_type": "code",
      "source": [
        "\n",
        "plt.figure(figsize=(12, 6))\n",
        "sns.lineplot(data=daily_metrics, x='dt', y='CTR')\n",
        "plt.title('Динамика CTR по дням')\n",
        "plt.xticks(rotation=45)\n",
        "plt.grid(True)\n",
        "plt.show()"
      ],
      "metadata": {
        "colab": {
          "base_uri": "https://localhost:8080/",
          "height": 621
        },
        "id": "ADaU4E2LAGTa",
        "outputId": "fc673527-dcd6-4958-d717-8b8605b48b58"
      },
      "execution_count": 19,
      "outputs": [
        {
          "output_type": "display_data",
          "data": {
            "text/plain": [
              "<Figure size 1200x600 with 1 Axes>"
            ],
            "image/png": "[encoded data removed]"
          },
          "metadata": {}
        }
      ]
    },
    {
      "cell_type": "markdown",
      "source": [
        "# Анализ пользовательских сессий\n"
      ],
      "metadata": {
        "id": "fS8x2g0FDahD"
      }
    },
    {
      "cell_type": "code",
      "source": [
        "\n",
        "# Подсчет количества событий на пользователя\n",
        "user_events = df.groupby('client_id').size().reset_index(name='event_count')\n",
        "\n",
        "# Статистика по количеству событий\n",
        "print(user_events['event_count'].describe())\n",
        "\n",
        "# Создаем гистограмму распределения\n",
        "plt.figure(figsize=(14, 7))\n",
        "\n",
        "# Основной график\n",
        "plt.subplot(1, 2, 1)\n",
        "sns.histplot(\n",
        "    user_events['event_count'],\n",
        "    kde=True,\n",
        "    bins=30,\n",
        "    color='skyblue',\n",
        "    edgecolor='black'\n",
        ")\n",
        "plt.title('Распределение количества событий на пользователя')\n",
        "plt.xlabel('Количество событий')\n",
        "plt.ylabel('Количество пользователей')\n",
        "plt.grid(True)\n",
        "\n",
        "# График в логарифмическом масштабе\n",
        "plt.subplot(1, 2, 2)\n",
        "sns.histplot(\n",
        "    user_events['event_count'],\n",
        "    kde=True,\n",
        "    bins=30,\n",
        "    log_scale=True,\n",
        "    color='salmon',\n",
        "    edgecolor='black'\n",
        ")\n",
        "plt.title('Распределение (логарифмический масштаб)')\n",
        "plt.xlabel('Количество событий (log)')\n",
        "plt.ylabel('Количество пользователей')\n",
        "plt.grid(True)\n",
        "\n",
        "plt.tight_layout()\n",
        "plt.show()\n",
        "\n",
        "# Рассчитываем среднее количество событий на пользователя\n",
        "mean_events = user_events['event_count'].mean()\n",
        "median_events = user_events['event_count'].median()\n",
        "\n",
        "print(f\"\\nСреднее количество событий на пользователя: {mean_events:.2f}\")\n",
        "print(f\"Медианное количество событий на пользователя: {median_events:.2f}\")\n",
        "\n",
        "# Дополнительно можно посмотреть распределение по квантилям\n",
        "quantiles = user_events['event_count'].quantile([0.25, 0.5, 0.75, 0.9, 0.95, 0.99])\n",
        "print(\"\\nКвантили распределения:\")\n",
        "print(quantiles)\n"
      ],
      "metadata": {
        "colab": {
          "base_uri": "https://localhost:8080/",
          "height": 1000
        },
        "id": "Guq3FWapXLwC",
        "outputId": "ffe72afa-fd90-4062-f174-45bf72663b1d"
      },
      "execution_count": 20,
      "outputs": [
        {
          "output_type": "stream",
          "name": "stdout",
          "text": [
            "count    3.102736e+06\n",
            "mean     2.831641e+00\n",
            "std      1.523417e+00\n",
            "min      1.000000e+00\n",
            "25%      2.000000e+00\n",
            "50%      3.000000e+00\n",
            "75%      4.000000e+00\n",
            "max      1.500000e+01\n",
            "Name: event_count, dtype: float64\n"
          ]
        },
        {
          "output_type": "display_data",
          "data": {
            "text/plain": [
              "<Figure size 1400x700 with 2 Axes>"
            ],
            "image/png": "[encoded data removed]"
          },
          "metadata": {}
        },
        {
          "output_type": "stream",
          "name": "stdout",
          "text": [
            "\n",
            "Среднее количество событий на пользователя: 2.83\n",
            "Медианное количество событий на пользователя: 3.00\n",
            "\n",
            "Квантили распределения:\n",
            "0.25    2.0\n",
            "0.50    3.0\n",
            "0.75    4.0\n",
            "0.90    5.0\n",
            "0.95    5.0\n",
            "0.99    8.0\n",
            "Name: event_count, dtype: float64\n"
          ]
        }
      ]
    },
    {
      "cell_type": "markdown",
      "source": [
        "#Анализ активности пользователей по времени, дням недели и сессиям\n",
        "\n",
        "**Что было сделано:**\n",
        "\n",
        "\n",
        "**Группировка данных по дням недели и датам:**\n",
        "\n",
        "Данные были сгруппированы по дням недели (day_of_week) и конкретным датам (dt).\n",
        "\n",
        "Для каждого дня недели и даты были рассчитаны ключевые метрики: CTR (Click-Through Rate) и CR (Conversion Rate).\n",
        "\n",
        "**CTR (Click-Through Rate)** – отношение количества кликов к количеству просмотров. Показывает, насколько эффективно пользователи взаимодействуют с контентом.\n",
        "\n",
        "**CR (Conversion Rate)** – отношение количества целевых действий (например, добавлений в корзину) к количеству предыдущих действий (например, кликов). Показывает эффективность конверсии пользователей.\n",
        "\n",
        "\n",
        "Были подсчитаны среднее и медианное количество событий в день, а также общее количество уникальных пользователей.\n",
        "\n",
        "**Среднее количество событий на пользователя** – среднее арифметическое количество действий (просмотров, кликов, добавлений), совершённых одним пользователем.\n",
        "\n",
        "**Медианное количество событий на пользователя** – значение, которое делит всех пользователей на две равные части по количеству событий. Помогает понять типичное поведение пользователей, исключая влияние выбросов.\n",
        "\n",
        "**Визуализация:**\n",
        "\n",
        "Построены графики распределения событий по дням недели.\n",
        "\n",
        "Построен график динамики CTR по датам, чтобы проследить изменения активности пользователей в течение недели.\n",
        "\n",
        "Построены гистограммы распределения количества событий на пользователя.\n",
        "\n",
        "**Анализ пользовательских сессий:**\n",
        "\n",
        "Подсчитано количество событий для каждого пользователя.\n",
        "\n",
        "Построены гистограммы распределения количества событий на пользователя, включая логарифмический масштаб для выявления выбросов.\n",
        "\n",
        "**Выводы:**\n",
        "\n",
        "**Активность по дням недели:**\n",
        "\n",
        "CTR варьируется от 3.42% (пятница) до 5.03% (среда), что указывает на более высокую активность пользователей в середине недели.\n",
        "\n",
        "CR также варьируется, достигая максимума в среду (40.48%) и минимума в четверг (28.05%).\n",
        "\n",
        "**Динамика по датам:**\n",
        "\n",
        "Среднее количество событий в день: 1,757,167, что говорит о высокой активности пользователей.\n",
        "График динамики CTR по дням показывает, как изменяется активность пользователей в течение недели, помогая выявить дни с наибольшей и наименьшей вовлечённостью.\n",
        "\n",
        "**Анализ пользовательских сессий:**\n",
        "\n",
        "Среднее количество событий на пользователя: 2.83, что говорит о том, что большинство пользователей совершают несколько действий.\n",
        "\n",
        "Медианное количество событий: 3, что подтверждает вывод о средней активности пользователей.\n",
        "\n",
        "Гистограммы показывают, что большинство пользователей совершают от 2 до 5 событий, но есть небольшая группа пользователей с высокой активностью (до 15 событий)."
      ],
      "metadata": {
        "id": "sPh6NUHN4soM"
      }
    },
    {
      "cell_type": "markdown",
      "source": [
        "# Расчет дисперсии"
      ],
      "metadata": {
        "id": "3OBQQUblLiKP"
      }
    },
    {
      "cell_type": "code",
      "source": [
        "\n",
        "def calculate_ratio_variance(numerator, denominator):\n",
        "    # Преобразуем в массивы numpy\n",
        "    num_array = np.array(numerator)\n",
        "    denom_array = np.array(denominator)\n",
        "\n",
        "    # Средние значения\n",
        "    mean_num = np.mean(num_array)\n",
        "    mean_denom = np.mean(denom_array)\n",
        "\n",
        "    # Дисперсии\n",
        "    var_num = np.var(num_array, ddof=1)\n",
        "    var_denom = np.var(denom_array, ddof=1)\n",
        "\n",
        "    # Ковариация\n",
        "    cov = np.cov(num_array, denom_array, ddof=1)[0, 1]\n",
        "\n",
        "    # Формула дельта-метода для дисперсии ratio\n",
        "    ratio_var = (\n",
        "        (var_num / mean_denom**2) -\n",
        "        (2 * (mean_num / mean_denom**3) * cov) +\n",
        "        ((mean_num**2 / mean_denom**4) * var_denom)\n",
        "    )\n",
        "\n",
        "    return ratio_var\n",
        "\n",
        "# Собираем все метрики в один датафрейм\n",
        "user_metrics = df.groupby('client_id')['event_type'].apply(list).reset_index()\n",
        "\n",
        "# Создаем колонки с количеством событий для каждого типа\n",
        "user_metrics['views'] = user_metrics['event_type'].apply(lambda x: x.count('views'))\n",
        "user_metrics['clicks'] = user_metrics['event_type'].apply(lambda x: x.count('clicks'))\n",
        "user_metrics['adds'] = user_metrics['event_type'].apply(lambda x: x.count('adds'))  # Добавляем эту строку\n",
        "\n",
        "# Фильтруем пользователей для CTR\n",
        "valid_ctr_users = user_metrics[user_metrics['views'] > 0]\n",
        "\n",
        "# Рассчитываем дисперсию CTR\n",
        "ctr_variance = calculate_ratio_variance(\n",
        "    numerator=valid_ctr_users['clicks'],\n",
        "    denominator=valid_ctr_users['views']\n",
        ")\n",
        "\n",
        "print(f\"Дисперсия CTR: {ctr_variance:.6f}\")\n",
        "\n",
        "# Фильтруем пользователей для CR\n",
        "valid_cr_users = user_metrics[user_metrics['clicks'] > 0]\n",
        "\n",
        "# Рассчитываем дисперсию CR\n",
        "cr_variance = calculate_ratio_variance(\n",
        "    numerator=valid_cr_users['adds'],\n",
        "    denominator=valid_cr_users['clicks']\n",
        ")\n",
        "\n",
        "print(f\"Дисперсия CR: {cr_variance:.6f}\")\n"
      ],
      "metadata": {
        "id": "9k15gZgH2R2S",
        "colab": {
          "base_uri": "https://localhost:8080/",
          "height": 0
        },
        "outputId": "2efeb486-de04-4269-dfdc-80d57165f820"
      },
      "execution_count": 21,
      "outputs": [
        {
          "output_type": "stream",
          "name": "stdout",
          "text": [
            "Дисперсия CTR: 0.030775\n",
            "Дисперсия CR: 0.334631\n"
          ]
        }
      ]
    },
    {
      "cell_type": "markdown",
      "source": [
        "**Что было сделано:**\n",
        "\n",
        "**Расчёт дисперсии CTR и CR:**\n",
        "\n",
        "Для каждого пользователя были подсчитаны количество просмотров (views), кликов (clicks) и добавлений (adds).\n",
        "\n",
        "Использовался дельта-метод для оценки дисперсии CTR и CR, учитывая, что эти метрики являются отношениями (например, CTR = Клики / Просмотры).\n",
        "\n",
        "\n",
        "**Дисперсия (Variance)** — мера разброса значений относительно среднего.\n",
        "Показывает, насколько значения метрики (например, CTR или CR) варьируются между пользователями или группами.\n",
        "\n",
        "\n",
        "**Дельта-метод (Delta Method)** — статистический метод, используемый для оценки дисперсии функции от случайных величин.\n",
        "В данном случае он применяется для расчёта дисперсии отношений (например, CTR = Клики / Просмотры).\n",
        "\n",
        "**Выводы:**\n",
        "\n",
        "Дисперсия CTR: 0.030775\n",
        "\n",
        "Показывает, что значения CTR среди пользователей имеют умеренный разброс. Это означает, что поведение пользователей в плане кликабельности относительно стабильно, но есть некоторая вариативность.\n",
        "\n",
        "\n",
        "Дисперсия CR: 0.334631\n",
        "\n",
        "Более высокая дисперсия CR по сравнению с CTR указывает на значительный разброс в конверсии пользователей из кликов в добавления. Это может быть связано с тем, что добавления в корзину более чувствительны к внешним факторам (например, дизайну страницы, акциям, предложениям).\n"
      ],
      "metadata": {
        "id": "h5EiaZQ04QJe"
      }
    },
    {
      "cell_type": "markdown",
      "source": [
        "#MDE"
      ],
      "metadata": {
        "id": "KY632zpuM_oB"
      }
    },
    {
      "cell_type": "code",
      "source": [
        "\n",
        "def get_MDE(mu, std, sample_size, n_groups=2, target_share=0.5, r=1, alpha=0.05, beta=0.2):\n",
        "    \"\"\"\n",
        "    Рассчитывает минимальный обнаруживаемый эффект (MDE) для непрерывных метрик.\n",
        "    mu: среднее значение\n",
        "    std: стандартное отклонение\n",
        "    sample_size: общее число участников\n",
        "    n_groups: число групп (обычно 2)\n",
        "    target_share: доля участников в контрольной группе\n",
        "    r: отношение размеров групп (обычно 1)\n",
        "    alpha: уровень значимости\n",
        "    beta: 1 - мощность теста\n",
        "    \"\"\"\n",
        "    z_alpha = norm.ppf(1 - alpha/2)\n",
        "    z_beta = norm.ppf(1 - beta)\n",
        "\n",
        "    n1 = int(sample_size * target_share)\n",
        "    n2 = int(sample_size * (1 - target_share))\n",
        "\n",
        "    # Формула для относительного MDE\n",
        "    mde = (z_alpha + z_beta) * std * np.sqrt((1/n1 + 1/(r*n2)))\n",
        "    return mde\n",
        "\n",
        "def calculate_mde_for_conversions(baseline, sample_size, alpha=0.05, power=0.8):\n",
        "    \"\"\"\n",
        "    Расчет MDE для бинарных метрик (конверсий).\n",
        "    baseline: базовая конверсия (например, 0.05)\n",
        "    sample_size: число пользователей\n",
        "    \"\"\"\n",
        "    z_alpha = norm.ppf(1 - alpha/2)\n",
        "    z_beta = norm.ppf(power)\n",
        "\n",
        "    # Формула для биномиальной метрики\n",
        "    mde = (z_alpha + z_beta) * np.sqrt(2 * baseline * (1 - baseline) / sample_size)\n",
        "\n",
        "    return mde\n",
        "\n",
        "# Наши данные\n",
        "unique_users = 3102736\n",
        "\n",
        "# Расчет для CTR\n",
        "baseline_ctr = 0.05  # базовый CTR\n",
        "mde_ctr = calculate_mde_for_conversions(baseline_ctr, unique_users)\n",
        "print(f\"MDE для CTR: {mde_ctr / baseline_ctr * 100:.2f}%\")  # в процентах\n",
        "\n",
        "# Расчет для CR\n",
        "baseline_cr = 0.02  # базовый CR\n",
        "mde_cr = calculate_mde_for_conversions(baseline_cr, unique_users)\n",
        "print(f\"MDE для CR: {mde_cr / baseline_cr * 100:.2f}%\")  # в процентах"
      ],
      "metadata": {
        "colab": {
          "base_uri": "https://localhost:8080/",
          "height": 0
        },
        "id": "3PkfJ_KPO0q2",
        "outputId": "84f7f58e-f40a-4d0a-8d43-c9b5613e5487"
      },
      "execution_count": 22,
      "outputs": [
        {
          "output_type": "stream",
          "name": "stdout",
          "text": [
            "MDE для CTR: 0.98%\n",
            "MDE для CR: 1.57%\n"
          ]
        }
      ]
    },
    {
      "cell_type": "markdown",
      "source": [
        "**Что было сделано:**\n",
        "\n",
        "Расчёт MDE для бинарных метрик (CTR и CR):\n",
        "\n",
        "\n",
        "**MDE (Minimum Detectable Effect)** — минимальный размер эффекта, который может быть обнаружен статистически значимо при заданном уровне значимости (обычно 5%) и мощности теста (обычно 80%).\n",
        "\n",
        "**MDE для бинарных метрик** (например, CTR, CR) показывает, насколько должна измениться метрика (в процентах или абсолютных значениях), чтобы тест смог это зафиксировать как статистически значимое изменение.\n",
        "\n",
        "Уровень значимости (α) — вероятность ошибочно отклонить нулевую гипотезу (обычно 5%).\n",
        "\n",
        "Мощность теста (1 - β) — вероятность правильно отклонить нулевую гипотезу, если альтернативная гипотеза верна (обычно 80%).\n",
        "\n",
        "Базовая конверсия (baseline) — текущее значение метрики (например, CTR = 5%).\n",
        "\n",
        "Размер выборки (sample size) — количество пользователей или наблюдений, участвующих в тесте.\n",
        "\n",
        "**Выводы:**\n",
        "\n",
        "MDE для CTR (0.98%) — означает, что для обнаружения статистически значимого изменения CTR, оно должно быть не менее 0.98% от текущего значения. Например, если текущий CTR = 5%, то изменение должно быть не менее 0.049 (или 4.9%) для обнаружения.\n",
        "\n",
        "\n",
        "MDE для CR (1.57%) — означает, что для обнаружения статистически значимого изменения CR, оно должно быть не менее 1.57% от текущего значения. Например, если текущий CR = 2%, то изменение должно быть не менее 0.0314 (или 3.14%) для обнаружения.\n"
      ],
      "metadata": {
        "id": "UbtkucI9BgUo"
      }
    },
    {
      "cell_type": "markdown",
      "source": [
        "#Таблица значений mde и размеров выборки."
      ],
      "metadata": {
        "id": "C9y0ntelPbIp"
      }
    },
    {
      "cell_type": "code",
      "source": [
        "\n",
        "def get_MDE(mu, std, sample_size, n_groups=2, target_share=0.5, r=1, alpha=0.05, beta=0.2):\n",
        "    t_alpha = stats.norm.ppf(1 - (alpha / 2), loc=0, scale=1)\n",
        "    comparisons = n_groups - 1\n",
        "    t_beta = stats.norm.ppf(1 - beta, loc=0, scale=1)\n",
        "    sample_ratio_correction = r + 2 + 1/r\n",
        "    mde = np.sqrt(sample_ratio_correction) * (t_alpha + t_beta) * std / np.sqrt(sample_size * (1 - target_share * (comparisons - 1)))\n",
        "    return mde, mde * 100 / mu\n",
        "\n",
        "# Исходные данные\n",
        "TOTAL_USERS = 3102736\n",
        "MAX_SAMPLE_SIZE = int(TOTAL_USERS * 0.2)  # 20% от общего числа\n",
        "STEP_SIZE = int(TOTAL_USERS * 0.05)  # Шаг 5% от общего числа\n",
        "\n",
        "# Параметры для CTR\n",
        "baseline_ctr = 0.0198\n",
        "variance_ctr = 0.008414\n",
        "std_ctr = np.sqrt(variance_ctr)\n",
        "\n",
        "# Параметры для CR\n",
        "baseline_cr = 0.3987\n",
        "variance_cr = 0.545429\n",
        "std_cr = np.sqrt(variance_cr)\n",
        "\n",
        "print(\"Таблица MDE для CTR:\")\n",
        "print(f\"{'Размер выборки':<20}{'MDE (абс)':<20}{'MDE (%)':<20}\")\n",
        "print(\"-\" * 60)\n",
        "\n",
        "for sample_size in range(STEP_SIZE, MAX_SAMPLE_SIZE + 1, STEP_SIZE):\n",
        "    mde_abs, mde_pct = get_MDE(\n",
        "        mu=baseline_ctr,\n",
        "        std=std_ctr,\n",
        "        sample_size=sample_size\n",
        "    )\n",
        "    print(f\"{sample_size:<20}{mde_abs:<20.6f}{mde_pct:<20.2f}\")\n",
        "\n",
        "print(\"\\nТаблица MDE для CR:\")\n",
        "print(f\"{'Размер выборки':<20}{'MDE (абс)':<20}{'MDE (%)':<20}\")\n",
        "print(\"-\" * 60)\n",
        "\n",
        "for sample_size in range(STEP_SIZE, MAX_SAMPLE_SIZE + 1, STEP_SIZE):\n",
        "    mde_abs, mde_pct = get_MDE(\n",
        "        mu=baseline_cr,\n",
        "        std=std_cr,\n",
        "        sample_size=sample_size\n",
        "    )\n",
        "    print(f\"{sample_size:<20}{mde_abs:<20.6f}{mde_pct:<20.2f}\")\n"
      ],
      "metadata": {
        "id": "C68Hs80B2RuU",
        "colab": {
          "base_uri": "https://localhost:8080/",
          "height": 0
        },
        "outputId": "195ebd01-2e5d-4aab-9f52-b3b2ff9403cd"
      },
      "execution_count": 23,
      "outputs": [
        {
          "output_type": "stream",
          "name": "stdout",
          "text": [
            "Таблица MDE для CTR:\n",
            "Размер выборки      MDE (абс)           MDE (%)             \n",
            "------------------------------------------------------------\n",
            "155136              0.001305            6.59                \n",
            "310272              0.000923            4.66                \n",
            "465408              0.000753            3.80                \n",
            "620544              0.000652            3.30                \n",
            "\n",
            "Таблица MDE для CR:\n",
            "Размер выборки      MDE (абс)           MDE (%)             \n",
            "------------------------------------------------------------\n",
            "155136              0.010506            2.64                \n",
            "310272              0.007429            1.86                \n",
            "465408              0.006066            1.52                \n",
            "620544              0.005253            1.32                \n"
          ]
        }
      ]
    },
    {
      "cell_type": "markdown",
      "source": [
        "**MDE (Minimum Detectable Effect)** — минимальное изменение метрики, которое может быть обнаружено как статистически значимое при заданном уровне значимости (обычно 5%) и мощности теста (обычно 80%).\n",
        "\n",
        "**MDE (абс)** — абсолютное значение минимального обнаруживаемого эффекта (например, 0.001305 для CTR).\n",
        "\n",
        "**MDE (%)** — относительное значение минимального обнаруживаемого эффекта в процентах от базовой метрики (например, 6.59% для CTR).\n",
        "\n",
        "**Размер выборки** — количество пользователей или наблюдений, участвующих в тесте.\n",
        "\n",
        "\n",
        "**Таблица MDE для CTR:**\n",
        "\n",
        "Что показывают данные:\n",
        "\n",
        "MDE (абс) уменьшается с увеличением размера выборки. Например, для выборки в 155136 пользователей MDE (абс) = 0.001305, а для выборки в 620544 пользователей MDE (абс) = 0.000652.\n",
        "MDE (%) также уменьшается с увеличением размера выборки. Например, для выборки в 155136 пользователей MDE (%) = 6.59%, а для выборки в 620544 пользователей MDE (%) = 3.30%.\n",
        "\n",
        "**Выводы:**\n",
        "\n",
        "Чем больше размер выборки, тем меньшее изменение метрики можно обнаружить как статистически значимое.\n",
        "Для обнаружения изменений CTR на уровне 3.30% необходимо иметь выборку не менее 620544 пользователей.\n",
        "\n",
        "\n",
        "**Таблица MDE для CR:**\n",
        "\n",
        "Что показывают данные:\n",
        "\n",
        "MDE (абс) для CR также уменьшается с увеличением размера выборки. Например, для выборки в 155136 пользователей MDE (абс) = 0.010506, а для выборки в 620544 пользователей MDE (абс) = 0.005253.\n",
        "MDE (%) для CR уменьшается с увеличением размера выборки. Например, для выборки в 155136 пользователей MDE (%) = 2.64%, а для выборки в 620544 пользователей MDE (%) = 1.32%.\n",
        "\n",
        "**Выводы:**\n",
        "\n",
        "Для обнаружения изменений CR на уровне 1.32% необходимо иметь выборку не менее 620544 пользователей.\n",
        "Увеличение размера выборки позволяет обнаруживать меньшие изменения в метриках, что важно для точного анализа эффективности изменений.\n",
        "\n"
      ],
      "metadata": {
        "id": "CUprMXOuCQ1P"
      }
    },
    {
      "cell_type": "markdown",
      "source": [
        "# Подготовка к A/B тесту\n"
      ],
      "metadata": {
        "id": "8kOhV_13AO8b"
      }
    },
    {
      "cell_type": "markdown",
      "source": [
        "Расчет размера выборки и MDE:\n",
        "\n"
      ],
      "metadata": {
        "id": "TQnn0hACAVuo"
      }
    },
    {
      "cell_type": "code",
      "source": [
        "\n",
        "# Параметры текущего CTR\n",
        "baseline_ctr = ctr\n",
        "std_ctr = np.sqrt(baseline_ctr * (1 - baseline_ctr))  # Стандартное отклонение для пропорции\n",
        "\n",
        "# Расчет размера выборки для MDE = 20%\n",
        "effect_size = 0.20 * baseline_ctr\n",
        "sample_size = tt_ind_solve_power(\n",
        "    effect_size=effect_size,\n",
        "    alpha=0.05,\n",
        "    power=0.8,\n",
        "    ratio=1.0\n",
        ")\n",
        "\n",
        "print(f\"\"\"\n",
        "Параметры теста:\n",
        "- Базовый CTR: {baseline_ctr:.2%}\n",
        "- Стандартное отклонение: {std_ctr:.4f}\n",
        "- Размер выборки на группу (для MDE=20%): {int(sample_size):,}\n",
        "\"\"\")"
      ],
      "metadata": {
        "colab": {
          "base_uri": "https://localhost:8080/",
          "height": 0
        },
        "id": "4ntraKaPALVT",
        "outputId": "5fc89ae9-36ba-4bb8-c561-d92e751ec42a"
      },
      "execution_count": 24,
      "outputs": [
        {
          "output_type": "stream",
          "name": "stdout",
          "text": [
            "\n",
            "Параметры теста:\n",
            "- Базовый CTR: 4.48%\n",
            "- Стандартное отклонение: 0.2068\n",
            "- Размер выборки на группу (для MDE=20%): 195,879\n",
            "\n"
          ]
        }
      ]
    },
    {
      "cell_type": "markdown",
      "source": [
        "**Параметры теста:**\n",
        "\n",
        "**Базовый CTR (Click-Through Rate): 4.48%**\n",
        "\n",
        "Это текущее значение конверсии из просмотров в клики. Оно показывает, что в среднем 4.48% пользователей, увидевших контент, совершают клик.\n",
        "\n",
        "\n",
        "**Стандартное отклонение: 0.2068**\n",
        "\n",
        "Стандартное отклонение показывает, насколько значения CTR варьируются относительно среднего значения (4.48%). В данном случае разброс значений CTR составляет около 0.2068.\n",
        "\n",
        "**Размер выборки на группу (для MDE = 20%): 195,879**\n",
        "\n",
        "Это количество пользователей, необходимое в каждой группе (контрольной и тестовой), чтобы обнаружить изменение CTR на 20% от базового значения (то есть изменение на 0.896%) с заданной статистической мощностью (обычно 80%) и уровнем значимости (обычно 5%).\n",
        "\n",
        "**Выводы:**\n",
        "\n",
        "**Чувствительность теста:**\n",
        "\n",
        "Размер выборки в 195,879 пользователей на группу позволяет обнаружить изменение CTR на 20% от базового значения (4.48%), то есть изменение на 0.896%.\n",
        "Если реальное изменение CTR меньше 0.896%, тест может не обнаружить его как статистически значимое.\n",
        "\n",
        "**Планирование экспериментов:**\n",
        "\n",
        "Для обнаружения меньших изменений CTR (например, 10% или 5%) потребуется увеличить размер выборки.\n",
        "Если важно обнаруживать даже небольшие изменения, необходимо рассмотреть возможность увеличения выборки или улучшения точности измерений.\n",
        "\n",
        "**Оптимизация рекламных кампаний:**\n",
        "\n",
        "Знание MDE и необходимого размера выборки позволяет более эффективно планировать A/B-тесты и оценивать результаты изменений в рекламных кампаниях.\n",
        "Если изменения в CTR превышают 0.896%, их можно считать статистически значимыми при данном размере выборки"
      ],
      "metadata": {
        "id": "p0pfVEIfDz-n"
      }
    },
    {
      "cell_type": "code",
      "source": [],
      "metadata": {
        "id": "DwELoqkcPD-6"
      },
      "execution_count": null,
      "outputs": []
    }
  ]
}